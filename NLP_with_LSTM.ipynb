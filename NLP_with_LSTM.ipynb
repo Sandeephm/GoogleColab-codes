{
  "nbformat": 4,
  "nbformat_minor": 0,
  "metadata": {
    "colab": {
      "name": "NLP_with_LSTM.ipynb",
      "provenance": [],
      "authorship_tag": "ABX9TyNyV6efeE09A1TB7nCHZVG4",
      "include_colab_link": true
    },
    "kernelspec": {
      "name": "python3",
      "display_name": "Python 3"
    }
  },
  "cells": [
    {
      "cell_type": "markdown",
      "metadata": {
        "id": "view-in-github",
        "colab_type": "text"
      },
      "source": [
        "<a href=\"https://colab.research.google.com/github/Sandeephm/GoogleColab-codes/blob/master/NLP_with_LSTM.ipynb\" target=\"_parent\"><img src=\"https://colab.research.google.com/assets/colab-badge.svg\" alt=\"Open In Colab\"/></a>"
      ]
    },
    {
      "cell_type": "code",
      "metadata": {
        "id": "YyaGNs4Jy2FF",
        "colab_type": "code",
        "colab": {}
      },
      "source": [
        "import tensorflow as tf\n",
        "from tensorflow.keras.preprocessing.sequence import pad_sequences"
      ],
      "execution_count": 0,
      "outputs": []
    },
    {
      "cell_type": "code",
      "metadata": {
        "id": "jxrxIEZ1zHrY",
        "colab_type": "code",
        "outputId": "eb9f9d28-c509-4938-81f1-4e5387aaf262",
        "colab": {
          "base_uri": "https://localhost:8080/",
          "height": 326
        }
      },
      "source": [
        "!wget --no-check-certificate \\\n",
        "    https://drive.google.com/uc?id=13ySLC_ue6Umt9RJYSeM2t-V0kCv-4C-P -O /tmp/sentiment.csv"
      ],
      "execution_count": 2,
      "outputs": [
        {
          "output_type": "stream",
          "text": [
            "--2020-06-11 04:50:46--  https://drive.google.com/uc?id=13ySLC_ue6Umt9RJYSeM2t-V0kCv-4C-P\n",
            "Resolving drive.google.com (drive.google.com)... 172.217.212.139, 172.217.212.102, 172.217.212.113, ...\n",
            "Connecting to drive.google.com (drive.google.com)|172.217.212.139|:443... connected.\n",
            "HTTP request sent, awaiting response... 302 Moved Temporarily\n",
            "Location: https://doc-08-ak-docs.googleusercontent.com/docs/securesc/ha0ro937gcuc7l7deffksulhg5h7mbp1/9266s3h13heltqsgs7in7ldi0hc609qb/1591851000000/11118900490791463723/*/13ySLC_ue6Umt9RJYSeM2t-V0kCv-4C-P [following]\n",
            "Warning: wildcards not supported in HTTP.\n",
            "--2020-06-11 04:50:46--  https://doc-08-ak-docs.googleusercontent.com/docs/securesc/ha0ro937gcuc7l7deffksulhg5h7mbp1/9266s3h13heltqsgs7in7ldi0hc609qb/1591851000000/11118900490791463723/*/13ySLC_ue6Umt9RJYSeM2t-V0kCv-4C-P\n",
            "Resolving doc-08-ak-docs.googleusercontent.com (doc-08-ak-docs.googleusercontent.com)... 74.125.126.132, 2607:f8b0:4001:c1d::84\n",
            "Connecting to doc-08-ak-docs.googleusercontent.com (doc-08-ak-docs.googleusercontent.com)|74.125.126.132|:443... connected.\n",
            "HTTP request sent, awaiting response... 200 OK\n",
            "Length: 127831 (125K) [text/csv]\n",
            "Saving to: ‘/tmp/sentiment.csv’\n",
            "\n",
            "\r/tmp/sentiment.csv    0%[                    ]       0  --.-KB/s               \r/tmp/sentiment.csv  100%[===================>] 124.83K  --.-KB/s    in 0.001s  \n",
            "\n",
            "2020-06-11 04:50:47 (96.5 MB/s) - ‘/tmp/sentiment.csv’ saved [127831/127831]\n",
            "\n"
          ],
          "name": "stdout"
        }
      ]
    },
    {
      "cell_type": "code",
      "metadata": {
        "id": "VvtxL0lmzMTY",
        "colab_type": "code",
        "colab": {}
      },
      "source": [
        "import pandas as pd\n",
        "\n",
        "dataset = pd.read_csv('/tmp/sentiment.csv')\n",
        "\n",
        "# Extract out sentences and labels\n",
        "sentences = dataset['text'].tolist()\n",
        "labels = dataset['sentiment'].tolist()"
      ],
      "execution_count": 0,
      "outputs": []
    },
    {
      "cell_type": "code",
      "metadata": {
        "id": "JzPUeEuNzOvV",
        "colab_type": "code",
        "outputId": "f2b638ae-6c56-454b-a112-fbdc35cc9217",
        "colab": {
          "base_uri": "https://localhost:8080/",
          "height": 153
        }
      },
      "source": [
        "# Print some example sentences and labels\n",
        "for x in range(2):\n",
        "  print(sentences[x])\n",
        "  print(labels[x])\n",
        "  print(\"\\n\")"
      ],
      "execution_count": 4,
      "outputs": [
        {
          "output_type": "stream",
          "text": [
            "So there is no way for me to plug it in here in the US unless I go by a converter.\n",
            "0\n",
            "\n",
            "\n",
            "Good case Excellent value.\n",
            "1\n",
            "\n",
            "\n"
          ],
          "name": "stdout"
        }
      ]
    },
    {
      "cell_type": "markdown",
      "metadata": {
        "id": "Hk7eONW-zVv-",
        "colab_type": "text"
      },
      "source": [
        "**Create a subwords dataset**"
      ]
    },
    {
      "cell_type": "code",
      "metadata": {
        "id": "KoVbxTBDzX6b",
        "colab_type": "code",
        "outputId": "be3bceda-7040-47b9-f4e5-9cae35c5b2e6",
        "colab": {
          "base_uri": "https://localhost:8080/",
          "height": 34
        }
      },
      "source": [
        "import tensorflow_datasets as tfds\n",
        "\n",
        "vocab_size = 1000\n",
        "tokenizer = tfds.features.text.SubwordTextEncoder.build_from_corpus(sentences, vocab_size, max_subword_length=5)\n",
        "\n",
        "# How big is the vocab size?\n",
        "print(\"Vocab size is \", tokenizer.vocab_size)"
      ],
      "execution_count": 5,
      "outputs": [
        {
          "output_type": "stream",
          "text": [
            "Vocab size is  999\n"
          ],
          "name": "stdout"
        }
      ]
    },
    {
      "cell_type": "code",
      "metadata": {
        "id": "b8UgRfeOzfXv",
        "colab_type": "code",
        "outputId": "3b65a53c-5add-4fe7-e110-52c2e10ac198",
        "colab": {
          "base_uri": "https://localhost:8080/",
          "height": 51
        }
      },
      "source": [
        "# Check that the tokenizer works appropriately\n",
        "num = 5\n",
        "print(sentences[num])\n",
        "encoded = tokenizer.encode(sentences[num])\n",
        "print(encoded)"
      ],
      "execution_count": 6,
      "outputs": [
        {
          "output_type": "stream",
          "text": [
            "I have to jiggle the plug to get it to line up right to get decent volume.\n",
            "[4, 31, 6, 849, 162, 450, 12, 1, 600, 438, 775, 6, 175, 14, 6, 55, 213, 159, 474, 775, 6, 175, 614, 380, 295, 148, 72, 789]\n"
          ],
          "name": "stdout"
        }
      ]
    },
    {
      "cell_type": "code",
      "metadata": {
        "id": "bFf_fmz7zn7Y",
        "colab_type": "code",
        "outputId": "b156b58a-7a26-4eb6-b80b-5985c6d9be1d",
        "colab": {
          "base_uri": "https://localhost:8080/",
          "height": 493
        }
      },
      "source": [
        "# Separately print out each subword, decoded\n",
        "for i in encoded:\n",
        "  print(tokenizer.decode([i]))"
      ],
      "execution_count": 7,
      "outputs": [
        {
          "output_type": "stream",
          "text": [
            "I \n",
            "have \n",
            "to \n",
            "j\n",
            "ig\n",
            "gl\n",
            "e \n",
            "the \n",
            "pl\n",
            "ug\n",
            " \n",
            "to \n",
            "get \n",
            "it \n",
            "to \n",
            "li\n",
            "ne \n",
            "up \n",
            "right\n",
            " \n",
            "to \n",
            "get \n",
            "dec\n",
            "ent \n",
            "vo\n",
            "lu\n",
            "me\n",
            ".\n"
          ],
          "name": "stdout"
        }
      ]
    },
    {
      "cell_type": "markdown",
      "metadata": {
        "id": "11sjkphTzsyN",
        "colab_type": "text"
      },
      "source": [
        "**Replace sentence data with encoded subwords**"
      ]
    },
    {
      "cell_type": "code",
      "metadata": {
        "id": "duzdCbvbzscR",
        "colab_type": "code",
        "colab": {}
      },
      "source": [
        "for i, sentence in enumerate(sentences):\n",
        "  sentences[i] = tokenizer.encode(sentence)"
      ],
      "execution_count": 0,
      "outputs": []
    },
    {
      "cell_type": "code",
      "metadata": {
        "id": "C6Mm0ZZSzy1C",
        "colab_type": "code",
        "outputId": "e298a456-2aa2-4a3b-f21e-4d55b34a7fd2",
        "colab": {
          "base_uri": "https://localhost:8080/",
          "height": 34
        }
      },
      "source": [
        "# Check the sentences are appropriately replaced\n",
        "print(sentences[5])"
      ],
      "execution_count": 9,
      "outputs": [
        {
          "output_type": "stream",
          "text": [
            "[4, 31, 6, 849, 162, 450, 12, 1, 600, 438, 775, 6, 175, 14, 6, 55, 213, 159, 474, 775, 6, 175, 614, 380, 295, 148, 72, 789]\n"
          ],
          "name": "stdout"
        }
      ]
    },
    {
      "cell_type": "markdown",
      "metadata": {
        "id": "RC1Bc_mMz3fZ",
        "colab_type": "text"
      },
      "source": [
        "**Final Pre Processing**"
      ]
    },
    {
      "cell_type": "code",
      "metadata": {
        "id": "KKfW6tP6z7i4",
        "colab_type": "code",
        "colab": {}
      },
      "source": [
        "import numpy as np\n",
        "\n",
        "max_length = 50\n",
        "trunc_type='post'\n",
        "padding_type='post'\n",
        "\n",
        "# Pad all sequences\n",
        "sequences_padded = pad_sequences(sentences, maxlen=max_length, \n",
        "                                 padding=padding_type, truncating=trunc_type)\n",
        "\n",
        "# Separate out the sentences and labels into training and test sets\n",
        "training_size = int(len(sentences) * 0.8)\n",
        "\n",
        "training_sequences = sequences_padded[0:training_size]\n",
        "testing_sequences = sequences_padded[training_size:]\n",
        "training_labels = labels[0:training_size]\n",
        "testing_labels = labels[training_size:]\n",
        "\n",
        "# Make labels into numpy arrays for use with the network later\n",
        "training_labels_final = np.array(training_labels)\n",
        "testing_labels_final = np.array(testing_labels)"
      ],
      "execution_count": 0,
      "outputs": []
    },
    {
      "cell_type": "markdown",
      "metadata": {
        "id": "5MHojxol0NWQ",
        "colab_type": "text"
      },
      "source": [
        "**Final Pre Procesing**"
      ]
    },
    {
      "cell_type": "code",
      "metadata": {
        "id": "SVgxVYjq0B9W",
        "colab_type": "code",
        "colab": {}
      },
      "source": [
        "import numpy as np\n",
        "\n",
        "max_length = 50\n",
        "trunc_type='post'\n",
        "padding_type='post'\n",
        "\n",
        "# Pad all sequences\n",
        "sequences_padded = pad_sequences(sentences, maxlen=max_length, \n",
        "                                 padding=padding_type, truncating=trunc_type)\n",
        "\n",
        "# Separate out the sentences and labels into training and test sets\n",
        "training_size = int(len(sentences) * 0.8)\n",
        "\n",
        "training_sequences = sequences_padded[0:training_size]\n",
        "testing_sequences = sequences_padded[training_size:]\n",
        "training_labels = labels[0:training_size]\n",
        "testing_labels = labels[training_size:]\n",
        "\n",
        "# Make labels into numpy arrays for use with the network later\n",
        "training_labels_final = np.array(training_labels)\n",
        "testing_labels_final = np.array(testing_labels)"
      ],
      "execution_count": 0,
      "outputs": []
    },
    {
      "cell_type": "markdown",
      "metadata": {
        "id": "Hv2JsVXfz_Cv",
        "colab_type": "text"
      },
      "source": [
        "**Train the Model**"
      ]
    },
    {
      "cell_type": "code",
      "metadata": {
        "id": "xkA2jIsM0Tw1",
        "colab_type": "code",
        "outputId": "26c8dd21-aac5-4c4f-d60d-04f723779775",
        "colab": {
          "base_uri": "https://localhost:8080/",
          "height": 289
        }
      },
      "source": [
        "embedding_dim = 16\n",
        "\n",
        "model = tf.keras.Sequential([\n",
        "    tf.keras.layers.Embedding(vocab_size, embedding_dim, input_length=max_length),\n",
        "    tf.keras.layers.GlobalAveragePooling1D(), \n",
        "    tf.keras.layers.Dense(6, activation='relu'),\n",
        "    tf.keras.layers.Dense(1, activation='sigmoid')\n",
        "])\n",
        "\n",
        "model.summary()"
      ],
      "execution_count": 12,
      "outputs": [
        {
          "output_type": "stream",
          "text": [
            "Model: \"sequential\"\n",
            "_________________________________________________________________\n",
            "Layer (type)                 Output Shape              Param #   \n",
            "=================================================================\n",
            "embedding (Embedding)        (None, 50, 16)            16000     \n",
            "_________________________________________________________________\n",
            "global_average_pooling1d (Gl (None, 16)                0         \n",
            "_________________________________________________________________\n",
            "dense (Dense)                (None, 6)                 102       \n",
            "_________________________________________________________________\n",
            "dense_1 (Dense)              (None, 1)                 7         \n",
            "=================================================================\n",
            "Total params: 16,109\n",
            "Trainable params: 16,109\n",
            "Non-trainable params: 0\n",
            "_________________________________________________________________\n"
          ],
          "name": "stdout"
        }
      ]
    },
    {
      "cell_type": "code",
      "metadata": {
        "id": "DF1Hf_Ml0cv2",
        "colab_type": "code",
        "outputId": "549a105e-0549-45ab-ed4a-097641d94bbc",
        "colab": {
          "base_uri": "https://localhost:8080/",
          "height": 1000
        }
      },
      "source": [
        "num_epochs = 30\n",
        "model.compile(loss='binary_crossentropy',optimizer='adam',metrics=['accuracy'])\n",
        "history = model.fit(training_sequences, training_labels_final, epochs=num_epochs, validation_data=(testing_sequences, testing_labels_final))\n"
      ],
      "execution_count": 13,
      "outputs": [
        {
          "output_type": "stream",
          "text": [
            "Epoch 1/30\n",
            "50/50 [==============================] - 0s 6ms/step - loss: 0.6907 - accuracy: 0.5273 - val_loss: 0.6991 - val_accuracy: 0.4160\n",
            "Epoch 2/30\n",
            "50/50 [==============================] - 0s 3ms/step - loss: 0.6861 - accuracy: 0.5417 - val_loss: 0.6994 - val_accuracy: 0.4411\n",
            "Epoch 3/30\n",
            "50/50 [==============================] - 0s 3ms/step - loss: 0.6803 - accuracy: 0.5530 - val_loss: 0.6971 - val_accuracy: 0.4612\n",
            "Epoch 4/30\n",
            "50/50 [==============================] - 0s 3ms/step - loss: 0.6711 - accuracy: 0.5857 - val_loss: 0.6839 - val_accuracy: 0.5288\n",
            "Epoch 5/30\n",
            "50/50 [==============================] - 0s 3ms/step - loss: 0.6578 - accuracy: 0.6447 - val_loss: 0.6771 - val_accuracy: 0.5288\n",
            "Epoch 6/30\n",
            "50/50 [==============================] - 0s 3ms/step - loss: 0.6386 - accuracy: 0.6755 - val_loss: 0.6594 - val_accuracy: 0.6140\n",
            "Epoch 7/30\n",
            "50/50 [==============================] - 0s 3ms/step - loss: 0.6136 - accuracy: 0.7376 - val_loss: 0.6400 - val_accuracy: 0.6742\n",
            "Epoch 8/30\n",
            "50/50 [==============================] - 0s 3ms/step - loss: 0.5825 - accuracy: 0.7621 - val_loss: 0.6191 - val_accuracy: 0.6942\n",
            "Epoch 9/30\n",
            "50/50 [==============================] - 0s 3ms/step - loss: 0.5462 - accuracy: 0.8060 - val_loss: 0.5988 - val_accuracy: 0.7043\n",
            "Epoch 10/30\n",
            "50/50 [==============================] - 0s 3ms/step - loss: 0.5049 - accuracy: 0.8242 - val_loss: 0.5878 - val_accuracy: 0.6817\n",
            "Epoch 11/30\n",
            "50/50 [==============================] - 0s 3ms/step - loss: 0.4684 - accuracy: 0.8418 - val_loss: 0.5682 - val_accuracy: 0.7143\n",
            "Epoch 12/30\n",
            "50/50 [==============================] - 0s 3ms/step - loss: 0.4339 - accuracy: 0.8531 - val_loss: 0.5384 - val_accuracy: 0.7368\n",
            "Epoch 13/30\n",
            "50/50 [==============================] - 0s 3ms/step - loss: 0.4033 - accuracy: 0.8644 - val_loss: 0.5222 - val_accuracy: 0.7444\n",
            "Epoch 14/30\n",
            "50/50 [==============================] - 0s 3ms/step - loss: 0.3789 - accuracy: 0.8657 - val_loss: 0.5265 - val_accuracy: 0.7419\n",
            "Epoch 15/30\n",
            "50/50 [==============================] - 0s 3ms/step - loss: 0.3535 - accuracy: 0.8801 - val_loss: 0.5129 - val_accuracy: 0.7494\n",
            "Epoch 16/30\n",
            "50/50 [==============================] - 0s 3ms/step - loss: 0.3345 - accuracy: 0.8776 - val_loss: 0.5002 - val_accuracy: 0.7569\n",
            "Epoch 17/30\n",
            "50/50 [==============================] - 0s 3ms/step - loss: 0.3137 - accuracy: 0.8927 - val_loss: 0.5254 - val_accuracy: 0.7494\n",
            "Epoch 18/30\n",
            "50/50 [==============================] - 0s 3ms/step - loss: 0.2975 - accuracy: 0.9014 - val_loss: 0.4981 - val_accuracy: 0.7519\n",
            "Epoch 19/30\n",
            "50/50 [==============================] - 0s 2ms/step - loss: 0.2818 - accuracy: 0.9065 - val_loss: 0.5196 - val_accuracy: 0.7519\n",
            "Epoch 20/30\n",
            "50/50 [==============================] - 0s 3ms/step - loss: 0.2683 - accuracy: 0.9071 - val_loss: 0.4914 - val_accuracy: 0.7644\n",
            "Epoch 21/30\n",
            "50/50 [==============================] - 0s 2ms/step - loss: 0.2564 - accuracy: 0.9146 - val_loss: 0.5433 - val_accuracy: 0.7544\n",
            "Epoch 22/30\n",
            "50/50 [==============================] - 0s 3ms/step - loss: 0.2463 - accuracy: 0.9171 - val_loss: 0.5137 - val_accuracy: 0.7544\n",
            "Epoch 23/30\n",
            "50/50 [==============================] - 0s 2ms/step - loss: 0.2343 - accuracy: 0.9272 - val_loss: 0.5155 - val_accuracy: 0.7569\n",
            "Epoch 24/30\n",
            "50/50 [==============================] - 0s 3ms/step - loss: 0.2258 - accuracy: 0.9291 - val_loss: 0.5409 - val_accuracy: 0.7544\n",
            "Epoch 25/30\n",
            "50/50 [==============================] - 0s 3ms/step - loss: 0.2168 - accuracy: 0.9309 - val_loss: 0.5349 - val_accuracy: 0.7619\n",
            "Epoch 26/30\n",
            "50/50 [==============================] - 0s 3ms/step - loss: 0.2090 - accuracy: 0.9316 - val_loss: 0.5382 - val_accuracy: 0.7619\n",
            "Epoch 27/30\n",
            "50/50 [==============================] - 0s 2ms/step - loss: 0.2004 - accuracy: 0.9366 - val_loss: 0.5649 - val_accuracy: 0.7569\n",
            "Epoch 28/30\n",
            "50/50 [==============================] - 0s 3ms/step - loss: 0.1933 - accuracy: 0.9404 - val_loss: 0.5433 - val_accuracy: 0.7619\n",
            "Epoch 29/30\n",
            "50/50 [==============================] - 0s 3ms/step - loss: 0.1858 - accuracy: 0.9435 - val_loss: 0.5484 - val_accuracy: 0.7644\n",
            "Epoch 30/30\n",
            "50/50 [==============================] - 0s 2ms/step - loss: 0.1795 - accuracy: 0.9485 - val_loss: 0.5616 - val_accuracy: 0.7594\n"
          ],
          "name": "stdout"
        }
      ]
    },
    {
      "cell_type": "markdown",
      "metadata": {
        "id": "ovr4GSTZ0iG2",
        "colab_type": "text"
      },
      "source": [
        "**Plot Accuracy and Loss**"
      ]
    },
    {
      "cell_type": "code",
      "metadata": {
        "id": "UD0aq9aF0lq9",
        "colab_type": "code",
        "outputId": "726f6044-5e61-4b86-83d5-18e4564104ee",
        "colab": {
          "base_uri": "https://localhost:8080/",
          "height": 541
        }
      },
      "source": [
        "import matplotlib.pyplot as plt\n",
        "\n",
        "def plot_graphs(history, string):\n",
        "  plt.plot(history.history[string])\n",
        "  plt.plot(history.history['val_'+string])\n",
        "  plt.xlabel(\"Epochs\")\n",
        "  plt.ylabel(string)\n",
        "  plt.legend([string, 'val_'+string])\n",
        "  plt.show()\n",
        "  \n",
        "plot_graphs(history, \"accuracy\")\n",
        "plot_graphs(history, \"loss\")"
      ],
      "execution_count": 14,
      "outputs": [
        {
          "output_type": "display_data",
          "data": {
            "image/png": "[encoded data removed]",
            "text/plain": [
              "<Figure size 432x288 with 1 Axes>"
            ]
          },
          "metadata": {
            "tags": [],
            "needs_background": "light"
          }
        },
        {
          "output_type": "display_data",
          "data": {
            "image/png": "[encoded data removed]",
            "text/plain": [
              "<Figure size 432x288 with 1 Axes>"
            ]
          },
          "metadata": {
            "tags": [],
            "needs_background": "light"
          }
        }
      ]
    },
    {
      "cell_type": "markdown",
      "metadata": {
        "id": "QOcIF5-q0q5y",
        "colab_type": "text"
      },
      "source": [
        "**Prediction**"
      ]
    },
    {
      "cell_type": "code",
      "metadata": {
        "id": "VjfXy-hZ0qda",
        "colab_type": "code",
        "colab": {}
      },
      "source": [
        "# Define a function to take a series of reviews\n",
        "# and predict whether each one is a positive or negative review\n",
        "\n",
        "# max_length = 100 # previously defined\n",
        "\n",
        "def predict_review(model, new_sentences, maxlen=max_length, show_padded_sequence=True ):\n",
        "  # Keep the original sentences so that we can keep using them later\n",
        "  # Create an array to hold the encoded sequences\n",
        "  new_sequences = []\n",
        "\n",
        "  # Convert the new reviews to sequences\n",
        "  for i, frvw in enumerate(new_sentences):\n",
        "    new_sequences.append(tokenizer.encode(frvw))\n",
        "\n",
        "  trunc_type='post' \n",
        "  padding_type='post'\n",
        "\n",
        "  # Pad all sequences for the new reviews\n",
        "  new_reviews_padded = pad_sequences(new_sequences, maxlen=max_length, \n",
        "                                 padding=padding_type, truncating=trunc_type)             \n",
        "\n",
        "  classes = model.predict(new_reviews_padded)\n",
        "\n",
        "  # The closer the class is to 1, the more positive the review is\n",
        "  for x in range(len(new_sentences)):\n",
        "    \n",
        "    # We can see the padded sequence if desired\n",
        "    # Print the sequence\n",
        "    if (show_padded_sequence):\n",
        "      print(new_reviews_padded[x])\n",
        "    # Print the review as text\n",
        "    print(new_sentences[x])\n",
        "    # Print its predicted class\n",
        "    print(classes[x])\n",
        "    print(\"\\n\")"
      ],
      "execution_count": 0,
      "outputs": []
    },
    {
      "cell_type": "code",
      "metadata": {
        "id": "5uj3B9aT04us",
        "colab_type": "code",
        "outputId": "32d632e8-ea73-4cfb-f5ad-4a01a2f54200",
        "colab": {
          "base_uri": "https://localhost:8080/",
          "height": 850
        }
      },
      "source": [
        "# Use the model to predict some reviews   \n",
        "fake_reviews = [\"I love this phone\", \n",
        "                \"Everything was cold\",\n",
        "                \"Everything was hot exactly as I wanted\", \n",
        "                \"Everything was green\", \n",
        "                \"the host seated us immediately\",\n",
        "                \"they gave us free chocolate cake\", \n",
        "                \"we couldn't hear each other talk because of the shouting in the kitchen\"\n",
        "              ]\n",
        "\n",
        "predict_review(model, fake_reviews)\n"
      ],
      "execution_count": 16,
      "outputs": [
        {
          "output_type": "stream",
          "text": [
            "[  4 281  16  25   0   0   0   0   0   0   0   0   0   0   0   0   0   0\n",
            "   0   0   0   0   0   0   0   0   0   0   0   0   0   0   0   0   0   0\n",
            "   0   0   0   0   0   0   0   0   0   0   0   0   0   0]\n",
            "I love this phone\n",
            "[0.8912764]\n",
            "\n",
            "\n",
            "[812 227 864 100 775   9 525 843   0   0   0   0   0   0   0   0   0   0\n",
            "   0   0   0   0   0   0   0   0   0   0   0   0   0   0   0   0   0   0\n",
            "   0   0   0   0   0   0   0   0   0   0   0   0   0   0]\n",
            "Everything was cold\n",
            "[0.1050252]\n",
            "\n",
            "\n",
            "[812 227 864 100 775   9 109   8 333 731  24  61   4 171  59  77   0   0\n",
            "   0   0   0   0   0   0   0   0   0   0   0   0   0   0   0   0   0   0\n",
            "   0   0   0   0   0   0   0   0   0   0   0   0   0   0]\n",
            "Everything was hot exactly as I wanted\n",
            "[0.29802844]\n",
            "\n",
            "\n",
            "[812 227 864 100 775   9 157 359 853   0   0   0   0   0   0   0   0   0\n",
            "   0   0   0   0   0   0   0   0   0   0   0   0   0   0   0   0   0   0\n",
            "   0   0   0   0   0   0   0   0   0   0   0   0   0   0]\n",
            "Everything was green\n",
            "[0.09242921]\n",
            "\n",
            "\n",
            "[  1 109 228 540 237 635 241 423 340  89 298   0   0   0   0   0   0   0\n",
            "   0   0   0   0   0   0   0   0   0   0   0   0   0   0   0   0   0   0\n",
            "   0   0   0   0   0   0   0   0   0   0   0   0   0   0]\n",
            "the host seated us immediately\n",
            "[0.4627912]\n",
            "\n",
            "\n",
            "[154 242  47 635 341  12 569 547 147 319 775 125  85   0   0   0   0   0\n",
            "   0   0   0   0   0   0   0   0   0   0   0   0   0   0   0   0   0   0\n",
            "   0   0   0   0   0   0   0   0   0   0   0   0   0   0]\n",
            "they gave us free chocolate cake\n",
            "[0.6945603]\n",
            "\n",
            "\n",
            "[158 190 853 782   8 607 775 210 232 146 775 470  67 305 101  15   1 328\n",
            " 296  26  19   1 661 641 195   0   0   0   0   0   0   0   0   0   0   0\n",
            "   0   0   0   0   0   0   0   0   0   0   0   0   0   0]\n",
            "we couldn't hear each other talk because of the shouting in the kitchen\n",
            "[0.03789706]\n",
            "\n",
            "\n"
          ],
          "name": "stdout"
        }
      ]
    },
    {
      "cell_type": "code",
      "metadata": {
        "id": "7bWII4TM1GIf",
        "colab_type": "code",
        "colab": {}
      },
      "source": [
        "def fit_model_now (model, sentences) :\n",
        "  model.compile(loss='binary_crossentropy',optimizer='adam',metrics=['accuracy'])\n",
        "  model.summary()\n",
        "  history = model.fit(training_sequences, training_labels_final, epochs=num_epochs, \n",
        "                      validation_data=(testing_sequences, testing_labels_final))\n",
        "  return history\n",
        "\n",
        "def plot_results (history):\n",
        "  plot_graphs(history, \"accuracy\")\n",
        "  plot_graphs(history, \"loss\")\n",
        "\n",
        "def fit_model_and_show_results (model, sentences):\n",
        "  history = fit_model_now(model, sentences)\n",
        "  plot_results(history)\n",
        "  predict_review(model, sentences)"
      ],
      "execution_count": 0,
      "outputs": []
    },
    {
      "cell_type": "markdown",
      "metadata": {
        "id": "3i4Hpgnh1JMn",
        "colab_type": "text"
      },
      "source": [
        "#**Bi-directional LSTM**"
      ]
    },
    {
      "cell_type": "code",
      "metadata": {
        "id": "dXwQAR3ktucv",
        "colab_type": "code",
        "colab": {
          "base_uri": "https://localhost:8080/",
          "height": 1000
        },
        "outputId": "3e2c6d97-dcfb-46b2-cf06-fa209bfd1bb5"
      },
      "source": [
        "# Define the model\n",
        "model_bidi_lstm = tf.keras.Sequential([\n",
        "    tf.keras.layers.Embedding(vocab_size, embedding_dim, input_length=max_length),\n",
        "    tf.keras.layers.Bidirectional(tf.keras.layers.LSTM(embedding_dim)), \n",
        "    tf.keras.layers.Dense(6, activation='relu'), \n",
        "    tf.keras.layers.Dense(1, activation='sigmoid')\n",
        "])\n",
        "\n",
        "# Compile and train the model and then show the predictions for our extra sentences\n",
        "fit_model_and_show_results(model_bidi_lstm, fake_reviews)"
      ],
      "execution_count": 18,
      "outputs": [
        {
          "output_type": "stream",
          "text": [
            "Model: \"sequential_1\"\n",
            "_________________________________________________________________\n",
            "Layer (type)                 Output Shape              Param #   \n",
            "=================================================================\n",
            "embedding_1 (Embedding)      (None, 50, 16)            16000     \n",
            "_________________________________________________________________\n",
            "bidirectional (Bidirectional (None, 32)                4224      \n",
            "_________________________________________________________________\n",
            "dense_2 (Dense)              (None, 6)                 198       \n",
            "_________________________________________________________________\n",
            "dense_3 (Dense)              (None, 1)                 7         \n",
            "=================================================================\n",
            "Total params: 20,429\n",
            "Trainable params: 20,429\n",
            "Non-trainable params: 0\n",
            "_________________________________________________________________\n",
            "Epoch 1/30\n",
            "50/50 [==============================] - 2s 47ms/step - loss: 0.6905 - accuracy: 0.5235 - val_loss: 0.6961 - val_accuracy: 0.4261\n",
            "Epoch 2/30\n",
            "50/50 [==============================] - 2s 30ms/step - loss: 0.6567 - accuracy: 0.6171 - val_loss: 0.6441 - val_accuracy: 0.7343\n",
            "Epoch 3/30\n",
            "50/50 [==============================] - 2s 31ms/step - loss: 0.5150 - accuracy: 0.7834 - val_loss: 0.5441 - val_accuracy: 0.7494\n",
            "Epoch 4/30\n",
            "50/50 [==============================] - 2s 31ms/step - loss: 0.3712 - accuracy: 0.8594 - val_loss: 0.5061 - val_accuracy: 0.7719\n",
            "Epoch 5/30\n",
            "50/50 [==============================] - 1s 30ms/step - loss: 0.2787 - accuracy: 0.8883 - val_loss: 0.5423 - val_accuracy: 0.7594\n",
            "Epoch 6/30\n",
            "50/50 [==============================] - 2s 30ms/step - loss: 0.2365 - accuracy: 0.9134 - val_loss: 0.6244 - val_accuracy: 0.7569\n",
            "Epoch 7/30\n",
            "50/50 [==============================] - 2s 30ms/step - loss: 0.1933 - accuracy: 0.9316 - val_loss: 0.6284 - val_accuracy: 0.7544\n",
            "Epoch 8/30\n",
            "50/50 [==============================] - 2s 31ms/step - loss: 0.1618 - accuracy: 0.9504 - val_loss: 0.7977 - val_accuracy: 0.7444\n",
            "Epoch 9/30\n",
            "50/50 [==============================] - 1s 29ms/step - loss: 0.1511 - accuracy: 0.9605 - val_loss: 0.7172 - val_accuracy: 0.7368\n",
            "Epoch 10/30\n",
            "50/50 [==============================] - 2s 31ms/step - loss: 0.1433 - accuracy: 0.9561 - val_loss: 0.8674 - val_accuracy: 0.7368\n",
            "Epoch 11/30\n",
            "50/50 [==============================] - 2s 31ms/step - loss: 0.1180 - accuracy: 0.9686 - val_loss: 0.8936 - val_accuracy: 0.7594\n",
            "Epoch 12/30\n",
            "50/50 [==============================] - 2s 30ms/step - loss: 0.1088 - accuracy: 0.9730 - val_loss: 0.9299 - val_accuracy: 0.7619\n",
            "Epoch 13/30\n",
            "50/50 [==============================] - 2s 32ms/step - loss: 0.0879 - accuracy: 0.9780 - val_loss: 1.0446 - val_accuracy: 0.7594\n",
            "Epoch 14/30\n",
            "50/50 [==============================] - 1s 30ms/step - loss: 0.0702 - accuracy: 0.9868 - val_loss: 1.2465 - val_accuracy: 0.7494\n",
            "Epoch 15/30\n",
            "50/50 [==============================] - 2s 31ms/step - loss: 0.0668 - accuracy: 0.9868 - val_loss: 1.2424 - val_accuracy: 0.7544\n",
            "Epoch 16/30\n",
            "50/50 [==============================] - 2s 30ms/step - loss: 0.0579 - accuracy: 0.9887 - val_loss: 1.3193 - val_accuracy: 0.7519\n",
            "Epoch 17/30\n",
            "50/50 [==============================] - 2s 30ms/step - loss: 0.0736 - accuracy: 0.9818 - val_loss: 0.9630 - val_accuracy: 0.7393\n",
            "Epoch 18/30\n",
            "50/50 [==============================] - 1s 30ms/step - loss: 0.1171 - accuracy: 0.9680 - val_loss: 1.1950 - val_accuracy: 0.7494\n",
            "Epoch 19/30\n",
            "50/50 [==============================] - 2s 32ms/step - loss: 0.0742 - accuracy: 0.9799 - val_loss: 1.2079 - val_accuracy: 0.7519\n",
            "Epoch 20/30\n",
            "50/50 [==============================] - 2s 31ms/step - loss: 0.0501 - accuracy: 0.9912 - val_loss: 1.2741 - val_accuracy: 0.7519\n",
            "Epoch 21/30\n",
            "50/50 [==============================] - 2s 31ms/step - loss: 0.0438 - accuracy: 0.9931 - val_loss: 1.4125 - val_accuracy: 0.7519\n",
            "Epoch 22/30\n",
            "50/50 [==============================] - 2s 31ms/step - loss: 0.0404 - accuracy: 0.9931 - val_loss: 1.4204 - val_accuracy: 0.7494\n",
            "Epoch 23/30\n",
            "50/50 [==============================] - 1s 30ms/step - loss: 0.0382 - accuracy: 0.9931 - val_loss: 1.3230 - val_accuracy: 0.7669\n",
            "Epoch 24/30\n",
            "50/50 [==============================] - 1s 30ms/step - loss: 0.0363 - accuracy: 0.9937 - val_loss: 1.4947 - val_accuracy: 0.7619\n",
            "Epoch 25/30\n",
            "50/50 [==============================] - 2s 30ms/step - loss: 0.0345 - accuracy: 0.9944 - val_loss: 1.4259 - val_accuracy: 0.7569\n",
            "Epoch 26/30\n",
            "50/50 [==============================] - 2s 31ms/step - loss: 0.0337 - accuracy: 0.9944 - val_loss: 1.5605 - val_accuracy: 0.7619\n",
            "Epoch 27/30\n",
            "50/50 [==============================] - 1s 30ms/step - loss: 0.0326 - accuracy: 0.9944 - val_loss: 1.5899 - val_accuracy: 0.7619\n",
            "Epoch 28/30\n",
            "50/50 [==============================] - 2s 31ms/step - loss: 0.0332 - accuracy: 0.9937 - val_loss: 1.4938 - val_accuracy: 0.7569\n",
            "Epoch 29/30\n",
            "50/50 [==============================] - 2s 30ms/step - loss: 0.0309 - accuracy: 0.9950 - val_loss: 1.6173 - val_accuracy: 0.7644\n",
            "Epoch 30/30\n",
            "50/50 [==============================] - 2s 31ms/step - loss: 0.0292 - accuracy: 0.9950 - val_loss: 1.6433 - val_accuracy: 0.7644\n"
          ],
          "name": "stdout"
        },
        {
          "output_type": "display_data",
          "data": {
            "image/png": "[encoded data removed]",
            "text/plain": [
              "<Figure size 432x288 with 1 Axes>"
            ]
          },
          "metadata": {
            "tags": [],
            "needs_background": "light"
          }
        },
        {
          "output_type": "display_data",
          "data": {
            "image/png": "[encoded data removed]",
            "text/plain": [
              "<Figure size 432x288 with 1 Axes>"
            ]
          },
          "metadata": {
            "tags": [],
            "needs_background": "light"
          }
        },
        {
          "output_type": "stream",
          "text": [
            "[  4 281  16  25   0   0   0   0   0   0   0   0   0   0   0   0   0   0\n",
            "   0   0   0   0   0   0   0   0   0   0   0   0   0   0   0   0   0   0\n",
            "   0   0   0   0   0   0   0   0   0   0   0   0   0   0]\n",
            "I love this phone\n",
            "[0.9999784]\n",
            "\n",
            "\n",
            "[812 227 864 100 775   9 525 843   0   0   0   0   0   0   0   0   0   0\n",
            "   0   0   0   0   0   0   0   0   0   0   0   0   0   0   0   0   0   0\n",
            "   0   0   0   0   0   0   0   0   0   0   0   0   0   0]\n",
            "Everything was cold\n",
            "[0.01277368]\n",
            "\n",
            "\n",
            "[812 227 864 100 775   9 109   8 333 731  24  61   4 171  59  77   0   0\n",
            "   0   0   0   0   0   0   0   0   0   0   0   0   0   0   0   0   0   0\n",
            "   0   0   0   0   0   0   0   0   0   0   0   0   0   0]\n",
            "Everything was hot exactly as I wanted\n",
            "[0.21459936]\n",
            "\n",
            "\n",
            "[812 227 864 100 775   9 157 359 853   0   0   0   0   0   0   0   0   0\n",
            "   0   0   0   0   0   0   0   0   0   0   0   0   0   0   0   0   0   0\n",
            "   0   0   0   0   0   0   0   0   0   0   0   0   0   0]\n",
            "Everything was green\n",
            "[0.01750991]\n",
            "\n",
            "\n",
            "[  1 109 228 540 237 635 241 423 340  89 298   0   0   0   0   0   0   0\n",
            "   0   0   0   0   0   0   0   0   0   0   0   0   0   0   0   0   0   0\n",
            "   0   0   0   0   0   0   0   0   0   0   0   0   0   0]\n",
            "the host seated us immediately\n",
            "[0.9998423]\n",
            "\n",
            "\n",
            "[154 242  47 635 341  12 569 547 147 319 775 125  85   0   0   0   0   0\n",
            "   0   0   0   0   0   0   0   0   0   0   0   0   0   0   0   0   0   0\n",
            "   0   0   0   0   0   0   0   0   0   0   0   0   0   0]\n",
            "they gave us free chocolate cake\n",
            "[0.9999987]\n",
            "\n",
            "\n",
            "[158 190 853 782   8 607 775 210 232 146 775 470  67 305 101  15   1 328\n",
            " 296  26  19   1 661 641 195   0   0   0   0   0   0   0   0   0   0   0\n",
            "   0   0   0   0   0   0   0   0   0   0   0   0   0   0]\n",
            "we couldn't hear each other talk because of the shouting in the kitchen\n",
            "[0.00959457]\n",
            "\n",
            "\n"
          ],
          "name": "stdout"
        }
      ]
    },
    {
      "cell_type": "markdown",
      "metadata": {
        "id": "U_0wa5Pcudhq",
        "colab_type": "text"
      },
      "source": [
        "#**Multiple Bi-Directional layers**"
      ]
    },
    {
      "cell_type": "code",
      "metadata": {
        "id": "H0V5KYSbudBk",
        "colab_type": "code",
        "colab": {
          "base_uri": "https://localhost:8080/",
          "height": 1000
        },
        "outputId": "08c769d0-b212-487b-fb26-6d3b8f244cf2"
      },
      "source": [
        "model_multiple_bidi_lstm = tf.keras.Sequential([\n",
        "    tf.keras.layers.Embedding(vocab_size, embedding_dim, input_length=max_length),\n",
        "    tf.keras.layers.Bidirectional(tf.keras.layers.LSTM(embedding_dim, \n",
        "                                                       return_sequences=True)), \n",
        "    tf.keras.layers.Bidirectional(tf.keras.layers.LSTM(embedding_dim)),\n",
        "    tf.keras.layers.Dense(6, activation='relu'),\n",
        "    tf.keras.layers.Dense(1, activation='sigmoid')\n",
        "])\n",
        "\n",
        "fit_model_and_show_results(model_multiple_bidi_lstm, fake_reviews)"
      ],
      "execution_count": 19,
      "outputs": [
        {
          "output_type": "stream",
          "text": [
            "Model: \"sequential_2\"\n",
            "_________________________________________________________________\n",
            "Layer (type)                 Output Shape              Param #   \n",
            "=================================================================\n",
            "embedding_2 (Embedding)      (None, 50, 16)            16000     \n",
            "_________________________________________________________________\n",
            "bidirectional_1 (Bidirection (None, 50, 32)            4224      \n",
            "_________________________________________________________________\n",
            "bidirectional_2 (Bidirection (None, 32)                6272      \n",
            "_________________________________________________________________\n",
            "dense_4 (Dense)              (None, 6)                 198       \n",
            "_________________________________________________________________\n",
            "dense_5 (Dense)              (None, 1)                 7         \n",
            "=================================================================\n",
            "Total params: 26,701\n",
            "Trainable params: 26,701\n",
            "Non-trainable params: 0\n",
            "_________________________________________________________________\n",
            "Epoch 1/30\n",
            "50/50 [==============================] - 5s 93ms/step - loss: 0.6919 - accuracy: 0.5185 - val_loss: 0.7005 - val_accuracy: 0.4110\n",
            "Epoch 2/30\n",
            "50/50 [==============================] - 3s 59ms/step - loss: 0.6318 - accuracy: 0.6365 - val_loss: 0.5670 - val_accuracy: 0.7644\n",
            "Epoch 3/30\n",
            "50/50 [==============================] - 3s 59ms/step - loss: 0.4347 - accuracy: 0.8173 - val_loss: 0.5417 - val_accuracy: 0.7669\n",
            "Epoch 4/30\n",
            "50/50 [==============================] - 3s 59ms/step - loss: 0.3352 - accuracy: 0.8807 - val_loss: 0.5627 - val_accuracy: 0.7469\n",
            "Epoch 5/30\n",
            "50/50 [==============================] - 3s 59ms/step - loss: 0.2835 - accuracy: 0.9014 - val_loss: 0.6314 - val_accuracy: 0.7419\n",
            "Epoch 6/30\n",
            "50/50 [==============================] - 3s 58ms/step - loss: 0.2460 - accuracy: 0.9215 - val_loss: 0.6061 - val_accuracy: 0.7569\n",
            "Epoch 7/30\n",
            "50/50 [==============================] - 3s 61ms/step - loss: 0.2163 - accuracy: 0.9379 - val_loss: 0.6844 - val_accuracy: 0.7594\n",
            "Epoch 8/30\n",
            "50/50 [==============================] - 3s 60ms/step - loss: 0.2152 - accuracy: 0.9322 - val_loss: 0.5872 - val_accuracy: 0.7494\n",
            "Epoch 9/30\n",
            "50/50 [==============================] - 3s 59ms/step - loss: 0.1886 - accuracy: 0.9422 - val_loss: 0.8088 - val_accuracy: 0.7469\n",
            "Epoch 10/30\n",
            "50/50 [==============================] - 3s 59ms/step - loss: 0.1727 - accuracy: 0.9460 - val_loss: 0.7125 - val_accuracy: 0.7594\n",
            "Epoch 11/30\n",
            "50/50 [==============================] - 3s 60ms/step - loss: 0.1402 - accuracy: 0.9611 - val_loss: 0.8611 - val_accuracy: 0.7318\n",
            "Epoch 12/30\n",
            "50/50 [==============================] - 3s 61ms/step - loss: 0.1412 - accuracy: 0.9554 - val_loss: 0.7780 - val_accuracy: 0.7669\n",
            "Epoch 13/30\n",
            "50/50 [==============================] - 3s 60ms/step - loss: 0.1164 - accuracy: 0.9711 - val_loss: 0.9244 - val_accuracy: 0.7393\n",
            "Epoch 14/30\n",
            "50/50 [==============================] - 3s 60ms/step - loss: 0.1100 - accuracy: 0.9718 - val_loss: 0.8368 - val_accuracy: 0.7544\n",
            "Epoch 15/30\n",
            "50/50 [==============================] - 3s 60ms/step - loss: 0.1146 - accuracy: 0.9692 - val_loss: 0.9227 - val_accuracy: 0.7393\n",
            "Epoch 16/30\n",
            "50/50 [==============================] - 3s 59ms/step - loss: 0.0941 - accuracy: 0.9780 - val_loss: 0.9499 - val_accuracy: 0.7494\n",
            "Epoch 17/30\n",
            "50/50 [==============================] - 3s 57ms/step - loss: 0.0855 - accuracy: 0.9805 - val_loss: 1.0117 - val_accuracy: 0.7519\n",
            "Epoch 18/30\n",
            "50/50 [==============================] - 3s 59ms/step - loss: 0.0852 - accuracy: 0.9812 - val_loss: 1.0422 - val_accuracy: 0.7343\n",
            "Epoch 19/30\n",
            "50/50 [==============================] - 3s 58ms/step - loss: 0.0998 - accuracy: 0.9743 - val_loss: 1.0294 - val_accuracy: 0.7419\n",
            "Epoch 20/30\n",
            "50/50 [==============================] - 3s 59ms/step - loss: 0.0847 - accuracy: 0.9805 - val_loss: 1.1066 - val_accuracy: 0.7143\n",
            "Epoch 21/30\n",
            "50/50 [==============================] - 3s 58ms/step - loss: 0.0933 - accuracy: 0.9743 - val_loss: 0.9771 - val_accuracy: 0.7393\n",
            "Epoch 22/30\n",
            "50/50 [==============================] - 3s 59ms/step - loss: 0.0760 - accuracy: 0.9831 - val_loss: 1.0658 - val_accuracy: 0.7318\n",
            "Epoch 23/30\n",
            "50/50 [==============================] - 3s 58ms/step - loss: 0.0630 - accuracy: 0.9881 - val_loss: 1.0201 - val_accuracy: 0.7519\n",
            "Epoch 24/30\n",
            "50/50 [==============================] - 3s 59ms/step - loss: 0.0758 - accuracy: 0.9799 - val_loss: 1.0469 - val_accuracy: 0.7293\n",
            "Epoch 25/30\n",
            "50/50 [==============================] - 3s 59ms/step - loss: 0.0980 - accuracy: 0.9730 - val_loss: 0.9827 - val_accuracy: 0.7393\n",
            "Epoch 26/30\n",
            "50/50 [==============================] - 3s 59ms/step - loss: 0.0692 - accuracy: 0.9849 - val_loss: 1.1267 - val_accuracy: 0.7318\n",
            "Epoch 27/30\n",
            "50/50 [==============================] - 3s 58ms/step - loss: 0.0584 - accuracy: 0.9887 - val_loss: 1.0829 - val_accuracy: 0.7419\n",
            "Epoch 28/30\n",
            "50/50 [==============================] - 3s 62ms/step - loss: 0.0555 - accuracy: 0.9881 - val_loss: 1.2348 - val_accuracy: 0.7368\n",
            "Epoch 29/30\n",
            "50/50 [==============================] - 3s 58ms/step - loss: 0.0636 - accuracy: 0.9856 - val_loss: 0.9933 - val_accuracy: 0.7469\n",
            "Epoch 30/30\n",
            "50/50 [==============================] - 3s 57ms/step - loss: 0.0614 - accuracy: 0.9862 - val_loss: 1.1576 - val_accuracy: 0.7419\n"
          ],
          "name": "stdout"
        },
        {
          "output_type": "display_data",
          "data": {
            "image/png": "[encoded data removed]",
            "text/plain": [
              "<Figure size 432x288 with 1 Axes>"
            ]
          },
          "metadata": {
            "tags": [],
            "needs_background": "light"
          }
        },
        {
          "output_type": "display_data",
          "data": {
            "image/png": "[encoded data removed]",
            "text/plain": [
              "<Figure size 432x288 with 1 Axes>"
            ]
          },
          "metadata": {
            "tags": [],
            "needs_background": "light"
          }
        },
        {
          "output_type": "stream",
          "text": [
            "[  4 281  16  25   0   0   0   0   0   0   0   0   0   0   0   0   0   0\n",
            "   0   0   0   0   0   0   0   0   0   0   0   0   0   0   0   0   0   0\n",
            "   0   0   0   0   0   0   0   0   0   0   0   0   0   0]\n",
            "I love this phone\n",
            "[0.997401]\n",
            "\n",
            "\n",
            "[812 227 864 100 775   9 525 843   0   0   0   0   0   0   0   0   0   0\n",
            "   0   0   0   0   0   0   0   0   0   0   0   0   0   0   0   0   0   0\n",
            "   0   0   0   0   0   0   0   0   0   0   0   0   0   0]\n",
            "Everything was cold\n",
            "[0.0214394]\n",
            "\n",
            "\n",
            "[812 227 864 100 775   9 109   8 333 731  24  61   4 171  59  77   0   0\n",
            "   0   0   0   0   0   0   0   0   0   0   0   0   0   0   0   0   0   0\n",
            "   0   0   0   0   0   0   0   0   0   0   0   0   0   0]\n",
            "Everything was hot exactly as I wanted\n",
            "[0.02352601]\n",
            "\n",
            "\n",
            "[812 227 864 100 775   9 157 359 853   0   0   0   0   0   0   0   0   0\n",
            "   0   0   0   0   0   0   0   0   0   0   0   0   0   0   0   0   0   0\n",
            "   0   0   0   0   0   0   0   0   0   0   0   0   0   0]\n",
            "Everything was green\n",
            "[0.02217427]\n",
            "\n",
            "\n",
            "[  1 109 228 540 237 635 241 423 340  89 298   0   0   0   0   0   0   0\n",
            "   0   0   0   0   0   0   0   0   0   0   0   0   0   0   0   0   0   0\n",
            "   0   0   0   0   0   0   0   0   0   0   0   0   0   0]\n",
            "the host seated us immediately\n",
            "[0.9802468]\n",
            "\n",
            "\n",
            "[154 242  47 635 341  12 569 547 147 319 775 125  85   0   0   0   0   0\n",
            "   0   0   0   0   0   0   0   0   0   0   0   0   0   0   0   0   0   0\n",
            "   0   0   0   0   0   0   0   0   0   0   0   0   0   0]\n",
            "they gave us free chocolate cake\n",
            "[0.9973003]\n",
            "\n",
            "\n",
            "[158 190 853 782   8 607 775 210 232 146 775 470  67 305 101  15   1 328\n",
            " 296  26  19   1 661 641 195   0   0   0   0   0   0   0   0   0   0   0\n",
            "   0   0   0   0   0   0   0   0   0   0   0   0   0   0]\n",
            "we couldn't hear each other talk because of the shouting in the kitchen\n",
            "[0.01811486]\n",
            "\n",
            "\n"
          ],
          "name": "stdout"
        }
      ]
    },
    {
      "cell_type": "markdown",
      "metadata": {
        "id": "eZD4phJZvVoA",
        "colab_type": "text"
      },
      "source": [
        "#**Compare predictions for all the models**"
      ]
    },
    {
      "cell_type": "code",
      "metadata": {
        "id": "fT97aXPFvQzu",
        "colab_type": "code",
        "colab": {}
      },
      "source": [
        "my_reviews =[\"lovely\", \"dreadful\", \"stay away\",\n",
        "             \"everything was hot exactly as I wanted\",\n",
        "             \"everything was not exactly as I wanted\",\n",
        "             \"they gave us free chocolate cake\",\n",
        "             \"I've never eaten anything so spicy in my life, my throat burned for hours\",\n",
        "             \"for a phone that is as expensive as this one I expect it to be much easier to use than this thing is\",\n",
        "             \"we left there very full for a low price so I'd say you just can't go wrong at this place\",\n",
        "             \"that place does not have quality meals and it isn't a good place to go for dinner\",\n",
        "             ]"
      ],
      "execution_count": 0,
      "outputs": []
    },
    {
      "cell_type": "code",
      "metadata": {
        "id": "_h6v8zbAvaqt",
        "colab_type": "code",
        "colab": {
          "base_uri": "https://localhost:8080/",
          "height": 748
        },
        "outputId": "de2e88ed-6f61-40c3-f5f9-0cb8d5d658f0"
      },
      "source": [
        "print(\"===================================\\n\",\"Embeddings only:\\n\", \"===================================\",)\n",
        "predict_review(model, my_reviews, show_padded_sequence=False)"
      ],
      "execution_count": 21,
      "outputs": [
        {
          "output_type": "stream",
          "text": [
            "===================================\n",
            " Embeddings only:\n",
            " ===================================\n",
            "lovely\n",
            "[0.8934497]\n",
            "\n",
            "\n",
            "dreadful\n",
            "[0.27165264]\n",
            "\n",
            "\n",
            "stay away\n",
            "[0.5994076]\n",
            "\n",
            "\n",
            "everything was hot exactly as I wanted\n",
            "[0.7164905]\n",
            "\n",
            "\n",
            "everything was not exactly as I wanted\n",
            "[0.42777836]\n",
            "\n",
            "\n",
            "they gave us free chocolate cake\n",
            "[0.6945603]\n",
            "\n",
            "\n",
            "I've never eaten anything so spicy in my life, my throat burned for hours\n",
            "[0.05311874]\n",
            "\n",
            "\n",
            "for a phone that is as expensive as this one I expect it to be much easier to use than this thing is\n",
            "[0.38825214]\n",
            "\n",
            "\n",
            "we left there very full for a low price so I'd say you just can't go wrong at this place\n",
            "[0.77544403]\n",
            "\n",
            "\n",
            "that place does not have quality meals and it isn't a good place to go for dinner\n",
            "[0.79891145]\n",
            "\n",
            "\n"
          ],
          "name": "stdout"
        }
      ]
    },
    {
      "cell_type": "code",
      "metadata": {
        "id": "j5uGkUrpvjd5",
        "colab_type": "code",
        "colab": {
          "base_uri": "https://localhost:8080/",
          "height": 748
        },
        "outputId": "bd8489b9-c2cb-48a7-cb71-542d655cdf18"
      },
      "source": [
        "print(\"===================================\\n\", \"With a single bidirectional LSTM:\\n\", \"===================================\")\n",
        "predict_review(model_bidi_lstm, my_reviews, show_padded_sequence=False)"
      ],
      "execution_count": 22,
      "outputs": [
        {
          "output_type": "stream",
          "text": [
            "===================================\n",
            " With a single bidirectional LSTM:\n",
            " ===================================\n",
            "lovely\n",
            "[0.99980354]\n",
            "\n",
            "\n",
            "dreadful\n",
            "[0.01279479]\n",
            "\n",
            "\n",
            "stay away\n",
            "[0.02214435]\n",
            "\n",
            "\n",
            "everything was hot exactly as I wanted\n",
            "[0.8426162]\n",
            "\n",
            "\n",
            "everything was not exactly as I wanted\n",
            "[0.01374274]\n",
            "\n",
            "\n",
            "they gave us free chocolate cake\n",
            "[0.9999986]\n",
            "\n",
            "\n",
            "I've never eaten anything so spicy in my life, my throat burned for hours\n",
            "[0.02181104]\n",
            "\n",
            "\n",
            "for a phone that is as expensive as this one I expect it to be much easier to use than this thing is\n",
            "[0.01813224]\n",
            "\n",
            "\n",
            "we left there very full for a low price so I'd say you just can't go wrong at this place\n",
            "[0.9999689]\n",
            "\n",
            "\n",
            "that place does not have quality meals and it isn't a good place to go for dinner\n",
            "[0.99792886]\n",
            "\n",
            "\n"
          ],
          "name": "stdout"
        }
      ]
    },
    {
      "cell_type": "code",
      "metadata": {
        "id": "OsK5_FsNv2Yt",
        "colab_type": "code",
        "colab": {
          "base_uri": "https://localhost:8080/",
          "height": 748
        },
        "outputId": "481067a4-6430-46f1-a90f-84b4d375160a"
      },
      "source": [
        "print(\"===================================\\n\",\"With two bidirectional LSTMs:\\n\", \"===================================\")\n",
        "predict_review(model_multiple_bidi_lstm, my_reviews, show_padded_sequence=False)"
      ],
      "execution_count": 23,
      "outputs": [
        {
          "output_type": "stream",
          "text": [
            "===================================\n",
            " With two bidirectional LSTMs:\n",
            " ===================================\n",
            "lovely\n",
            "[0.9965425]\n",
            "\n",
            "\n",
            "dreadful\n",
            "[0.02257577]\n",
            "\n",
            "\n",
            "stay away\n",
            "[0.0236913]\n",
            "\n",
            "\n",
            "everything was hot exactly as I wanted\n",
            "[0.34093964]\n",
            "\n",
            "\n",
            "everything was not exactly as I wanted\n",
            "[0.0198842]\n",
            "\n",
            "\n",
            "they gave us free chocolate cake\n",
            "[0.99730027]\n",
            "\n",
            "\n",
            "I've never eaten anything so spicy in my life, my throat burned for hours\n",
            "[0.01811716]\n",
            "\n",
            "\n",
            "for a phone that is as expensive as this one I expect it to be much easier to use than this thing is\n",
            "[0.21107176]\n",
            "\n",
            "\n",
            "we left there very full for a low price so I'd say you just can't go wrong at this place\n",
            "[0.14778924]\n",
            "\n",
            "\n",
            "that place does not have quality meals and it isn't a good place to go for dinner\n",
            "[0.04927596]\n",
            "\n",
            "\n"
          ],
          "name": "stdout"
        }
      ]
    }
  ]
}