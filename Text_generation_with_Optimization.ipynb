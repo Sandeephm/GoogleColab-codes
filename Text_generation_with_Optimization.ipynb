{
  "nbformat": 4,
  "nbformat_minor": 0,
  "metadata": {
    "colab": {
      "name": "Text_generation_with_Optimization.ipynb",
      "provenance": [],
      "authorship_tag": "ABX9TyNXg2Y58x+bpGy552U4ra5z",
      "include_colab_link": true
    },
    "kernelspec": {
      "name": "python3",
      "display_name": "Python 3"
    },
    "accelerator": "GPU"
  },
  "cells": [
    {
      "cell_type": "markdown",
      "metadata": {
        "id": "view-in-github",
        "colab_type": "text"
      },
      "source": [
        "<a href=\"https://colab.research.google.com/github/Sandeephm/GoogleColab-codes/blob/master/Text_generation_with_Optimization.ipynb\" target=\"_parent\"><img src=\"https://colab.research.google.com/assets/colab-badge.svg\" alt=\"Open In Colab\"/></a>"
      ]
    },
    {
      "cell_type": "code",
      "metadata": {
        "id": "vLIpjn9s9bbr",
        "colab_type": "code",
        "colab": {}
      },
      "source": [
        "import tensorflow as tf\n",
        "\n",
        "from tensorflow.keras.preprocessing.text import Tokenizer\n",
        "from tensorflow.keras.preprocessing.sequence import pad_sequences\n",
        "\n",
        "# Other imports for processing data\n",
        "import string\n",
        "import numpy as np\n",
        "import pandas as pd"
      ],
      "execution_count": 0,
      "outputs": []
    },
    {
      "cell_type": "markdown",
      "metadata": {
        "id": "0O6RNmaf_Aap",
        "colab_type": "text"
      },
      "source": [
        "Load the Dataset"
      ]
    },
    {
      "cell_type": "code",
      "metadata": {
        "id": "OXO5McFf-93N",
        "colab_type": "code",
        "colab": {
          "base_uri": "https://localhost:8080/",
          "height": 326
        },
        "outputId": "22757528-76c3-4dee-d3d9-6358c2a1874e"
      },
      "source": [
        "!wget --no-check-certificate \\\n",
        "    https://drive.google.com/uc?id=1LiJFZd41ofrWoBtW-pMYsfz1w8Ny0Bj8 \\\n",
        "    -O /tmp/songdata.csv"
      ],
      "execution_count": 2,
      "outputs": [
        {
          "output_type": "stream",
          "text": [
            "--2020-06-11 10:45:15--  https://drive.google.com/uc?id=1LiJFZd41ofrWoBtW-pMYsfz1w8Ny0Bj8\n",
            "Resolving drive.google.com (drive.google.com)... 172.217.203.138, 172.217.203.102, 172.217.203.101, ...\n",
            "Connecting to drive.google.com (drive.google.com)|172.217.203.138|:443... connected.\n",
            "HTTP request sent, awaiting response... 302 Moved Temporarily\n",
            "Location: https://doc-04-ak-docs.googleusercontent.com/docs/securesc/ha0ro937gcuc7l7deffksulhg5h7mbp1/aim91b4e58g7778kph8bs94s9okj8t1k/1591872300000/11118900490791463723/*/1LiJFZd41ofrWoBtW-pMYsfz1w8Ny0Bj8 [following]\n",
            "Warning: wildcards not supported in HTTP.\n",
            "--2020-06-11 10:45:18--  https://doc-04-ak-docs.googleusercontent.com/docs/securesc/ha0ro937gcuc7l7deffksulhg5h7mbp1/aim91b4e58g7778kph8bs94s9okj8t1k/1591872300000/11118900490791463723/*/1LiJFZd41ofrWoBtW-pMYsfz1w8Ny0Bj8\n",
            "Resolving doc-04-ak-docs.googleusercontent.com (doc-04-ak-docs.googleusercontent.com)... 172.217.203.132, 2607:f8b0:400c:c07::84\n",
            "Connecting to doc-04-ak-docs.googleusercontent.com (doc-04-ak-docs.googleusercontent.com)|172.217.203.132|:443... connected.\n",
            "HTTP request sent, awaiting response... 200 OK\n",
            "Length: unspecified [text/csv]\n",
            "Saving to: ‘/tmp/songdata.csv’\n",
            "\n",
            "/tmp/songdata.csv       [   <=>              ]  69.08M   117MB/s    in 0.6s    \n",
            "\n",
            "2020-06-11 10:45:19 (117 MB/s) - ‘/tmp/songdata.csv’ saved [72436445]\n",
            "\n"
          ],
          "name": "stdout"
        }
      ]
    },
    {
      "cell_type": "markdown",
      "metadata": {
        "id": "XyOT_zcD_FN2",
        "colab_type": "text"
      },
      "source": [
        "Data Pre Processing"
      ]
    },
    {
      "cell_type": "code",
      "metadata": {
        "id": "Cz5Z52O7_Ix-",
        "colab_type": "code",
        "colab": {}
      },
      "source": [
        "def tokenize_corpus(corpus, num_words=-1):\n",
        "  # Fit a Tokenizer on the corpus\n",
        "  if num_words > -1:\n",
        "    tokenizer = Tokenizer(num_words=num_words)\n",
        "  else:\n",
        "    tokenizer = Tokenizer()\n",
        "  tokenizer.fit_on_texts(corpus)\n",
        "  return tokenizer\n",
        "\n",
        "def create_lyrics_corpus(dataset, field):\n",
        "  # Remove all other punctuation\n",
        "  dataset[field] = dataset[field].str.replace('[{}]'.format(string.punctuation), '')\n",
        "  # Make it lowercase\n",
        "  dataset[field] = dataset[field].str.lower()\n",
        "  # Make it one long string to split by line\n",
        "  lyrics = dataset[field].str.cat()\n",
        "  corpus = lyrics.split('\\n')\n",
        "  # Remove any trailing whitespace\n",
        "  for l in range(len(corpus)):\n",
        "    corpus[l] = corpus[l].rstrip()\n",
        "  # Remove any empty lines\n",
        "  corpus = [l for l in corpus if l != '']\n",
        "\n",
        "  return corpus"
      ],
      "execution_count": 0,
      "outputs": []
    },
    {
      "cell_type": "code",
      "metadata": {
        "id": "39g5O4KH_Lau",
        "colab_type": "code",
        "colab": {
          "base_uri": "https://localhost:8080/",
          "height": 34
        },
        "outputId": "873b5de6-2de5-4c29-8b2f-bf94b431e492"
      },
      "source": [
        "def tokenize_corpus(corpus, num_words=-1):\n",
        "  # Fit a Tokenizer on the corpus\n",
        "  if num_words > -1:\n",
        "    tokenizer = Tokenizer(num_words=num_words)\n",
        "  else:\n",
        "    tokenizer = Tokenizer()\n",
        "  tokenizer.fit_on_texts(corpus)\n",
        "  return tokenizer\n",
        "\n",
        "# Read the dataset from csv - this time with 250 songs\n",
        "dataset = pd.read_csv('/tmp/songdata.csv', dtype=str)[:250]\n",
        "# Create the corpus using the 'text' column containing lyrics\n",
        "corpus = create_lyrics_corpus(dataset, 'text')\n",
        "# Tokenize the corpus\n",
        "tokenizer = tokenize_corpus(corpus, num_words=2000)\n",
        "total_words = tokenizer.num_words\n",
        "\n",
        "# There should be a lot more words now\n",
        "print(total_words)"
      ],
      "execution_count": 4,
      "outputs": [
        {
          "output_type": "stream",
          "text": [
            "2000\n"
          ],
          "name": "stdout"
        }
      ]
    },
    {
      "cell_type": "markdown",
      "metadata": {
        "id": "ROS9i0IY_Oqd",
        "colab_type": "text"
      },
      "source": [
        "Create Seqquence and Labels"
      ]
    },
    {
      "cell_type": "code",
      "metadata": {
        "id": "jQqqbkGT_OXk",
        "colab_type": "code",
        "colab": {}
      },
      "source": [
        "sequences = []\n",
        "for line in corpus:\n",
        "\ttoken_list = tokenizer.texts_to_sequences([line])[0]\n",
        "\tfor i in range(1, len(token_list)):\n",
        "\t\tn_gram_sequence = token_list[:i+1]\n",
        "\t\tsequences.append(n_gram_sequence)\n",
        "\n",
        "# Pad sequences for equal input length \n",
        "max_sequence_len = max([len(seq) for seq in sequences])\n",
        "sequences = np.array(pad_sequences(sequences, maxlen=max_sequence_len, padding='pre'))\n",
        "\n",
        "# Split sequences between the \"input\" sequence and \"output\" predicted word\n",
        "input_sequences, labels = sequences[:,:-1], sequences[:,-1]\n",
        "# One-hot encode the labels\n",
        "one_hot_labels = tf.keras.utils.to_categorical(labels, num_classes=total_words)"
      ],
      "execution_count": 0,
      "outputs": []
    },
    {
      "cell_type": "markdown",
      "metadata": {
        "id": "O3BK8v-H_W9O",
        "colab_type": "text"
      },
      "source": [
        "Train A Text Generation Model"
      ]
    },
    {
      "cell_type": "code",
      "metadata": {
        "id": "1jCSBOSZ_Zob",
        "colab_type": "code",
        "colab": {
          "base_uri": "https://localhost:8080/",
          "height": 1000
        },
        "outputId": "6233c132-9704-4a05-ca7c-8226e36a6230"
      },
      "source": [
        "from tensorflow.keras.models import Sequential\n",
        "from tensorflow.keras.layers import Embedding, LSTM, Dense, Bidirectional\n",
        "\n",
        "model = Sequential()\n",
        "model.add(Embedding(total_words, 64, input_length=max_sequence_len-1))\n",
        "model.add(Bidirectional(LSTM(20)))\n",
        "model.add(Dense(total_words, activation='softmax'))\n",
        "model.compile(loss='categorical_crossentropy', optimizer='adam', metrics=['accuracy'])\n",
        "history = model.fit(input_sequences, one_hot_labels, epochs=100, verbose=1)"
      ],
      "execution_count": 6,
      "outputs": [
        {
          "output_type": "stream",
          "text": [
            "Epoch 1/100\n",
            "1480/1480 [==============================] - 15s 10ms/step - loss: 5.9839 - accuracy: 0.0462\n",
            "Epoch 2/100\n",
            "1480/1480 [==============================] - 15s 10ms/step - loss: 5.6903 - accuracy: 0.0503\n",
            "Epoch 3/100\n",
            "1480/1480 [==============================] - 15s 10ms/step - loss: 5.4512 - accuracy: 0.0707\n",
            "Epoch 4/100\n",
            "1480/1480 [==============================] - 15s 10ms/step - loss: 5.2289 - accuracy: 0.0942\n",
            "Epoch 5/100\n",
            "1480/1480 [==============================] - 15s 10ms/step - loss: 5.0352 - accuracy: 0.1144\n",
            "Epoch 6/100\n",
            "1480/1480 [==============================] - 15s 10ms/step - loss: 4.8765 - accuracy: 0.1301\n",
            "Epoch 7/100\n",
            "1480/1480 [==============================] - 15s 10ms/step - loss: 4.7414 - accuracy: 0.1455\n",
            "Epoch 8/100\n",
            "1480/1480 [==============================] - 15s 10ms/step - loss: 4.6170 - accuracy: 0.1597\n",
            "Epoch 9/100\n",
            "1480/1480 [==============================] - 15s 10ms/step - loss: 4.5009 - accuracy: 0.1744\n",
            "Epoch 10/100\n",
            "1480/1480 [==============================] - 15s 10ms/step - loss: 4.3924 - accuracy: 0.1870\n",
            "Epoch 11/100\n",
            "1480/1480 [==============================] - 15s 10ms/step - loss: 4.2886 - accuracy: 0.1983\n",
            "Epoch 12/100\n",
            "1480/1480 [==============================] - 15s 10ms/step - loss: 4.1954 - accuracy: 0.2099\n",
            "Epoch 13/100\n",
            "1480/1480 [==============================] - 15s 10ms/step - loss: 4.1088 - accuracy: 0.2213\n",
            "Epoch 14/100\n",
            "1480/1480 [==============================] - 15s 10ms/step - loss: 4.0288 - accuracy: 0.2318\n",
            "Epoch 15/100\n",
            "1480/1480 [==============================] - 15s 10ms/step - loss: 3.9616 - accuracy: 0.2402\n",
            "Epoch 16/100\n",
            "1480/1480 [==============================] - 15s 10ms/step - loss: 3.8904 - accuracy: 0.2484\n",
            "Epoch 17/100\n",
            "1480/1480 [==============================] - 15s 10ms/step - loss: 3.8282 - accuracy: 0.2551\n",
            "Epoch 18/100\n",
            "1480/1480 [==============================] - 15s 10ms/step - loss: 3.7753 - accuracy: 0.2625\n",
            "Epoch 19/100\n",
            "1480/1480 [==============================] - 14s 10ms/step - loss: 3.7211 - accuracy: 0.2696\n",
            "Epoch 20/100\n",
            "1480/1480 [==============================] - 15s 10ms/step - loss: 3.6707 - accuracy: 0.2755\n",
            "Epoch 21/100\n",
            "1480/1480 [==============================] - 15s 10ms/step - loss: 3.6295 - accuracy: 0.2823\n",
            "Epoch 22/100\n",
            "1480/1480 [==============================] - 14s 10ms/step - loss: 3.5831 - accuracy: 0.2909\n",
            "Epoch 23/100\n",
            "1480/1480 [==============================] - 14s 10ms/step - loss: 3.5431 - accuracy: 0.2955\n",
            "Epoch 24/100\n",
            "1480/1480 [==============================] - 14s 10ms/step - loss: 3.5020 - accuracy: 0.3024\n",
            "Epoch 25/100\n",
            "1480/1480 [==============================] - 15s 10ms/step - loss: 3.4638 - accuracy: 0.3083\n",
            "Epoch 26/100\n",
            "1480/1480 [==============================] - 14s 10ms/step - loss: 3.4262 - accuracy: 0.3126\n",
            "Epoch 27/100\n",
            "1480/1480 [==============================] - 14s 10ms/step - loss: 3.3932 - accuracy: 0.3180\n",
            "Epoch 28/100\n",
            "1480/1480 [==============================] - 14s 10ms/step - loss: 3.3606 - accuracy: 0.3220\n",
            "Epoch 29/100\n",
            "1480/1480 [==============================] - 15s 10ms/step - loss: 3.3354 - accuracy: 0.3258\n",
            "Epoch 30/100\n",
            "1480/1480 [==============================] - 14s 10ms/step - loss: 3.3054 - accuracy: 0.3318\n",
            "Epoch 31/100\n",
            "1480/1480 [==============================] - 14s 10ms/step - loss: 3.2753 - accuracy: 0.3350\n",
            "Epoch 32/100\n",
            "1480/1480 [==============================] - 14s 10ms/step - loss: 3.2410 - accuracy: 0.3419\n",
            "Epoch 33/100\n",
            "1480/1480 [==============================] - 15s 10ms/step - loss: 3.2145 - accuracy: 0.3462\n",
            "Epoch 34/100\n",
            "1480/1480 [==============================] - 15s 10ms/step - loss: 3.1936 - accuracy: 0.3503\n",
            "Epoch 35/100\n",
            "1480/1480 [==============================] - 14s 10ms/step - loss: 3.1671 - accuracy: 0.3540\n",
            "Epoch 36/100\n",
            "1480/1480 [==============================] - 14s 10ms/step - loss: 3.1366 - accuracy: 0.3592\n",
            "Epoch 37/100\n",
            "1480/1480 [==============================] - 15s 10ms/step - loss: 3.1203 - accuracy: 0.3623\n",
            "Epoch 38/100\n",
            "1480/1480 [==============================] - 14s 10ms/step - loss: 3.0916 - accuracy: 0.3674\n",
            "Epoch 39/100\n",
            "1480/1480 [==============================] - 14s 10ms/step - loss: 3.0753 - accuracy: 0.3696\n",
            "Epoch 40/100\n",
            "1480/1480 [==============================] - 14s 10ms/step - loss: 3.0485 - accuracy: 0.3744\n",
            "Epoch 41/100\n",
            "1480/1480 [==============================] - 14s 10ms/step - loss: 3.0318 - accuracy: 0.3757\n",
            "Epoch 42/100\n",
            "1480/1480 [==============================] - 14s 10ms/step - loss: 3.0148 - accuracy: 0.3806\n",
            "Epoch 43/100\n",
            "1480/1480 [==============================] - 15s 10ms/step - loss: 2.9929 - accuracy: 0.3832\n",
            "Epoch 44/100\n",
            "1480/1480 [==============================] - 14s 10ms/step - loss: 2.9706 - accuracy: 0.3887\n",
            "Epoch 45/100\n",
            "1480/1480 [==============================] - 14s 10ms/step - loss: 2.9622 - accuracy: 0.3874\n",
            "Epoch 46/100\n",
            "1480/1480 [==============================] - 15s 10ms/step - loss: 2.9340 - accuracy: 0.3950\n",
            "Epoch 47/100\n",
            "1480/1480 [==============================] - 14s 10ms/step - loss: 2.9183 - accuracy: 0.3958\n",
            "Epoch 48/100\n",
            "1480/1480 [==============================] - 14s 10ms/step - loss: 2.9026 - accuracy: 0.3977\n",
            "Epoch 49/100\n",
            "1480/1480 [==============================] - 14s 10ms/step - loss: 2.8795 - accuracy: 0.4028\n",
            "Epoch 50/100\n",
            "1480/1480 [==============================] - 15s 10ms/step - loss: 2.8731 - accuracy: 0.4060\n",
            "Epoch 51/100\n",
            "1480/1480 [==============================] - 14s 10ms/step - loss: 2.8587 - accuracy: 0.4066\n",
            "Epoch 52/100\n",
            "1480/1480 [==============================] - 15s 10ms/step - loss: 2.8429 - accuracy: 0.4082\n",
            "Epoch 53/100\n",
            "1480/1480 [==============================] - 14s 10ms/step - loss: 2.8308 - accuracy: 0.4103\n",
            "Epoch 54/100\n",
            "1480/1480 [==============================] - 14s 10ms/step - loss: 2.8132 - accuracy: 0.4146\n",
            "Epoch 55/100\n",
            "1480/1480 [==============================] - 14s 10ms/step - loss: 2.8036 - accuracy: 0.4140\n",
            "Epoch 56/100\n",
            "1480/1480 [==============================] - 14s 10ms/step - loss: 2.7837 - accuracy: 0.4184\n",
            "Epoch 57/100\n",
            "1480/1480 [==============================] - 14s 10ms/step - loss: 2.7695 - accuracy: 0.4222\n",
            "Epoch 58/100\n",
            "1480/1480 [==============================] - 15s 10ms/step - loss: 2.7616 - accuracy: 0.4238\n",
            "Epoch 59/100\n",
            "1480/1480 [==============================] - 14s 10ms/step - loss: 2.7441 - accuracy: 0.4256\n",
            "Epoch 60/100\n",
            "1480/1480 [==============================] - 14s 10ms/step - loss: 2.7301 - accuracy: 0.4272\n",
            "Epoch 61/100\n",
            "1480/1480 [==============================] - 14s 10ms/step - loss: 2.7160 - accuracy: 0.4313\n",
            "Epoch 62/100\n",
            "1480/1480 [==============================] - 14s 10ms/step - loss: 2.7098 - accuracy: 0.4311\n",
            "Epoch 63/100\n",
            "1480/1480 [==============================] - 14s 10ms/step - loss: 2.6907 - accuracy: 0.4351\n",
            "Epoch 64/100\n",
            "1480/1480 [==============================] - 14s 10ms/step - loss: 2.6760 - accuracy: 0.4372\n",
            "Epoch 65/100\n",
            "1480/1480 [==============================] - 14s 10ms/step - loss: 2.6619 - accuracy: 0.4411\n",
            "Epoch 66/100\n",
            "1480/1480 [==============================] - 14s 10ms/step - loss: 2.6579 - accuracy: 0.4387\n",
            "Epoch 67/100\n",
            "1480/1480 [==============================] - 14s 10ms/step - loss: 2.6514 - accuracy: 0.4414\n",
            "Epoch 68/100\n",
            "1480/1480 [==============================] - 15s 10ms/step - loss: 2.6406 - accuracy: 0.4449\n",
            "Epoch 69/100\n",
            "1480/1480 [==============================] - 14s 10ms/step - loss: 2.6253 - accuracy: 0.4457\n",
            "Epoch 70/100\n",
            "1480/1480 [==============================] - 14s 10ms/step - loss: 2.6242 - accuracy: 0.4455\n",
            "Epoch 71/100\n",
            "1480/1480 [==============================] - 14s 9ms/step - loss: 2.6210 - accuracy: 0.4465\n",
            "Epoch 72/100\n",
            "1480/1480 [==============================] - 14s 10ms/step - loss: 2.5964 - accuracy: 0.4511\n",
            "Epoch 73/100\n",
            "1480/1480 [==============================] - 14s 10ms/step - loss: 2.5778 - accuracy: 0.4538\n",
            "Epoch 74/100\n",
            "1480/1480 [==============================] - 14s 9ms/step - loss: 2.5771 - accuracy: 0.4543\n",
            "Epoch 75/100\n",
            "1480/1480 [==============================] - 14s 10ms/step - loss: 2.5685 - accuracy: 0.4551\n",
            "Epoch 76/100\n",
            "1480/1480 [==============================] - 14s 9ms/step - loss: 2.5570 - accuracy: 0.4582\n",
            "Epoch 77/100\n",
            "1480/1480 [==============================] - 14s 10ms/step - loss: 2.5400 - accuracy: 0.4617\n",
            "Epoch 78/100\n",
            "1480/1480 [==============================] - 14s 10ms/step - loss: 2.5353 - accuracy: 0.4624\n",
            "Epoch 79/100\n",
            "1480/1480 [==============================] - 15s 10ms/step - loss: 2.5275 - accuracy: 0.4643\n",
            "Epoch 80/100\n",
            "1480/1480 [==============================] - 14s 10ms/step - loss: 2.5188 - accuracy: 0.4650\n",
            "Epoch 81/100\n",
            "1480/1480 [==============================] - 14s 10ms/step - loss: 2.5125 - accuracy: 0.4667\n",
            "Epoch 82/100\n",
            "1480/1480 [==============================] - 14s 9ms/step - loss: 2.5314 - accuracy: 0.4615\n",
            "Epoch 83/100\n",
            "1480/1480 [==============================] - 14s 10ms/step - loss: 2.5175 - accuracy: 0.4647\n",
            "Epoch 84/100\n",
            "1480/1480 [==============================] - 14s 10ms/step - loss: 2.4876 - accuracy: 0.4707\n",
            "Epoch 85/100\n",
            "1480/1480 [==============================] - 14s 10ms/step - loss: 2.4821 - accuracy: 0.4714\n",
            "Epoch 86/100\n",
            "1480/1480 [==============================] - 14s 10ms/step - loss: 2.4709 - accuracy: 0.4755\n",
            "Epoch 87/100\n",
            "1480/1480 [==============================] - 14s 10ms/step - loss: 2.4684 - accuracy: 0.4749\n",
            "Epoch 88/100\n",
            "1480/1480 [==============================] - 14s 10ms/step - loss: 2.4567 - accuracy: 0.4756\n",
            "Epoch 89/100\n",
            "1480/1480 [==============================] - 15s 10ms/step - loss: 2.4429 - accuracy: 0.4793\n",
            "Epoch 90/100\n",
            "1480/1480 [==============================] - 15s 10ms/step - loss: 2.4468 - accuracy: 0.4782\n",
            "Epoch 91/100\n",
            "1480/1480 [==============================] - 14s 10ms/step - loss: 2.4294 - accuracy: 0.4824\n",
            "Epoch 92/100\n",
            "1480/1480 [==============================] - 14s 10ms/step - loss: 2.4291 - accuracy: 0.4814\n",
            "Epoch 93/100\n",
            "1480/1480 [==============================] - 14s 10ms/step - loss: 2.4259 - accuracy: 0.4823\n",
            "Epoch 94/100\n",
            "1480/1480 [==============================] - 14s 10ms/step - loss: 2.4171 - accuracy: 0.4849\n",
            "Epoch 95/100\n",
            "1480/1480 [==============================] - 14s 10ms/step - loss: 2.4057 - accuracy: 0.4857\n",
            "Epoch 96/100\n",
            "1480/1480 [==============================] - 15s 10ms/step - loss: 2.3966 - accuracy: 0.4882\n",
            "Epoch 97/100\n",
            "1480/1480 [==============================] - 14s 10ms/step - loss: 2.3986 - accuracy: 0.4878\n",
            "Epoch 98/100\n",
            "1480/1480 [==============================] - 14s 9ms/step - loss: 2.3810 - accuracy: 0.4920\n",
            "Epoch 99/100\n",
            "1480/1480 [==============================] - 14s 10ms/step - loss: 2.3814 - accuracy: 0.4911\n",
            "Epoch 100/100\n",
            "1480/1480 [==============================] - 14s 10ms/step - loss: 2.3735 - accuracy: 0.4917\n"
          ],
          "name": "stdout"
        }
      ]
    },
    {
      "cell_type": "markdown",
      "metadata": {
        "id": "jmDPTZG4BH6u",
        "colab_type": "text"
      },
      "source": [
        "Visualization"
      ]
    },
    {
      "cell_type": "code",
      "metadata": {
        "id": "obnKPCcMBLdZ",
        "colab_type": "code",
        "colab": {
          "base_uri": "https://localhost:8080/",
          "height": 279
        },
        "outputId": "ca1c3607-ef35-47db-f9ac-1858435ea3dd"
      },
      "source": [
        "import matplotlib.pyplot as plt\n",
        "\n",
        "def plot_graphs(history, string):\n",
        "  plt.plot(history.history[string])\n",
        "  plt.xlabel(\"Epochs\")\n",
        "  plt.ylabel(string)\n",
        "  plt.show()\n",
        "\n",
        "plot_graphs(history, 'accuracy')"
      ],
      "execution_count": 7,
      "outputs": [
        {
          "output_type": "display_data",
          "data": {
            "image/png": "[encoded data removed]",
            "text/plain": [
              "<Figure size 432x288 with 1 Axes>"
            ]
          },
          "metadata": {
            "tags": [],
            "needs_background": "light"
          }
        }
      ]
    },
    {
      "cell_type": "markdown",
      "metadata": {
        "id": "Ejs97lW0BNxl",
        "colab_type": "text"
      },
      "source": [
        "Generate better lyrics"
      ]
    },
    {
      "cell_type": "code",
      "metadata": {
        "id": "4xdXelZ6BNbk",
        "colab_type": "code",
        "colab": {
          "base_uri": "https://localhost:8080/",
          "height": 54
        },
        "outputId": "2ab1aaaf-532e-4663-8449-b2bd29280ec6"
      },
      "source": [
        "seed_text = \"im feeling chills\"\n",
        "next_words = 100\n",
        "  \n",
        "for _ in range(next_words):\n",
        "\ttoken_list = tokenizer.texts_to_sequences([seed_text])[0]\n",
        "\ttoken_list = pad_sequences([token_list], maxlen=max_sequence_len-1, padding='pre')\n",
        "\tpredicted = np.argmax(model.predict(token_list), axis=-1)\n",
        "\toutput_word = \"\"\n",
        "\tfor word, index in tokenizer.word_index.items():\n",
        "\t\tif index == predicted:\n",
        "\t\t\toutput_word = word\n",
        "\t\t\tbreak\n",
        "\tseed_text += \" \" + output_word\n",
        "print(seed_text)"
      ],
      "execution_count": 8,
      "outputs": [
        {
          "output_type": "stream",
          "text": [
            "im feeling chills me to the bone before she brand same old clown your girl doll face for nights gotten think that youre headin away scream for it now when me do i think youre gone away wedding tails he stayed of hesitation grow world movie go upon love go ha gorilla gorilla whirl cocktail floor rattlesnake visitors share gain son fool floor fucks yesterday fool queen pandora through our love affairs any but liked to find a star in little woman bars mile movie star lump embers why lookin yonder still outta your head bother you a single chance on me yeah\n"
          ],
          "name": "stdout"
        }
      ]
    },
    {
      "cell_type": "markdown",
      "metadata": {
        "id": "O-BMcimfBUz8",
        "colab_type": "text"
      },
      "source": [
        "Varying the Possible Outputs"
      ]
    },
    {
      "cell_type": "code",
      "metadata": {
        "id": "FESaMGBBBVb4",
        "colab_type": "code",
        "colab": {
          "base_uri": "https://localhost:8080/",
          "height": 34
        },
        "outputId": "80e456a6-d89c-4e5d-fc64-85572ddbec13"
      },
      "source": [
        "# Test the method with just the first word after the seed text\n",
        "seed_text = \"im feeling chills at\"\n",
        "next_words = 100\n",
        "  \n",
        "token_list = tokenizer.texts_to_sequences([seed_text])[0]\n",
        "token_list = pad_sequences([token_list], maxlen=max_sequence_len-1, padding='pre')\n",
        "predicted_probs = model.predict(token_list)[0]\n",
        "predicted = np.random.choice([x for x in range(len(predicted_probs))], \n",
        "                             p=predicted_probs)\n",
        "# Running this cell multiple times should get you some variance in output\n",
        "print(predicted)"
      ],
      "execution_count": 20,
      "outputs": [
        {
          "output_type": "stream",
          "text": [
            "7\n"
          ],
          "name": "stdout"
        }
      ]
    },
    {
      "cell_type": "code",
      "metadata": {
        "id": "EQxet9tsBXY2",
        "colab_type": "code",
        "colab": {
          "base_uri": "https://localhost:8080/",
          "height": 54
        },
        "outputId": "3e3ea8bc-ac1a-4e62-9ebe-30b54f718276"
      },
      "source": [
        "# Use this process for the full output generation\n",
        "seed_text = \"im feeling chills\"\n",
        "next_words = 100\n",
        "  \n",
        "for _ in range(next_words):\n",
        "  token_list = tokenizer.texts_to_sequences([seed_text])[0]\n",
        "  token_list = pad_sequences([token_list], maxlen=max_sequence_len-1, padding='pre')\n",
        "  predicted_probs = model.predict(token_list)[0]\n",
        "  predicted = np.random.choice([x for x in range(len(predicted_probs))],\n",
        "                               p=predicted_probs)\n",
        "  output_word = \"\"\n",
        "  for word, index in tokenizer.word_index.items():\n",
        "    if index == predicted:\n",
        "      output_word = word\n",
        "      break\n",
        "  seed_text += \" \" + output_word\n",
        "print(seed_text)"
      ],
      "execution_count": 17,
      "outputs": [
        {
          "output_type": "stream",
          "text": [
            "im feeling chills me sure is one days old way street nights i that did you want you ever say goodnight me to cheeks girlfriend fears have no good said without know where you i surely come to get down upon the sword life for one now the never knows about crying your dreams wish gold be my hand cause when today known wait a dream times and dance home class game babe music secrets are girl for kiss it for this time world choose before its love laughed go wild side rhythm passing rhythm of white kisses rhythm your side rhythm world\n"
          ],
          "name": "stdout"
        }
      ]
    }
  ]
}