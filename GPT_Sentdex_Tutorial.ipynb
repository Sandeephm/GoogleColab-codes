{
  "nbformat": 4,
  "nbformat_minor": 0,
  "metadata": {
    "colab": {
      "provenance": [],
      "gpuType": "T4",
      "authorship_tag": "ABX9TyO7fujIBjBaKU94Tru+FYaP",
      "include_colab_link": true
    },
    "kernelspec": {
      "name": "python3",
      "display_name": "Python 3"
    },
    "language_info": {
      "name": "python"
    },
    "accelerator": "GPU",
    "gpuClass": "standard"
  },
  "cells": [
    {
      "cell_type": "markdown",
      "metadata": {
        "id": "view-in-github",
        "colab_type": "text"
      },
      "source": [
        "<a href=\"https://colab.research.google.com/github/Sandeephm/GoogleColab-codes/blob/master/GPT_Sentdex_Tutorial.ipynb\" target=\"_parent\"><img src=\"https://colab.research.google.com/assets/colab-badge.svg\" alt=\"Open In Colab\"/></a>"
      ]
    },
    {
      "cell_type": "code",
      "source": [
        "pip install transformers"
      ],
      "metadata": {
        "colab": {
          "base_uri": "https://localhost:8080/"
        },
        "id": "BOuN-flbRLn-",
        "outputId": "35f50958-326a-4c04-ffb3-c46e4d17980c"
      },
      "execution_count": 3,
      "outputs": [
        {
          "output_type": "stream",
          "name": "stdout",
          "text": [
            "Looking in indexes: https://pypi.org/simple, https://us-python.pkg.dev/colab-wheels/public/simple/\n",
            "Collecting transformers\n",
            "  Downloading transformers-4.29.2-py3-none-any.whl (7.1 MB)\n",
            "\u001b[2K     \u001b[90m━━━━━━━━━━━━━━━━━━━━━━━━━━━━━━━━━━━━━━━━\u001b[0m \u001b[32m7.1/7.1 MB\u001b[0m \u001b[31m50.5 MB/s\u001b[0m eta \u001b[36m0:00:00\u001b[0m\n",
            "\u001b[?25hRequirement already satisfied: filelock in /usr/local/lib/python3.10/dist-packages (from transformers) (3.12.0)\n",
            "Collecting huggingface-hub<1.0,>=0.14.1 (from transformers)\n",
            "  Downloading huggingface_hub-0.14.1-py3-none-any.whl (224 kB)\n",
            "\u001b[2K     \u001b[90m━━━━━━━━━━━━━━━━━━━━━━━━━━━━━━━━━━━━━━\u001b[0m \u001b[32m224.5/224.5 kB\u001b[0m \u001b[31m22.9 MB/s\u001b[0m eta \u001b[36m0:00:00\u001b[0m\n",
            "\u001b[?25hRequirement already satisfied: numpy>=1.17 in /usr/local/lib/python3.10/dist-packages (from transformers) (1.22.4)\n",
            "Requirement already satisfied: packaging>=20.0 in /usr/local/lib/python3.10/dist-packages (from transformers) (23.1)\n",
            "Requirement already satisfied: pyyaml>=5.1 in /usr/local/lib/python3.10/dist-packages (from transformers) (6.0)\n",
            "Requirement already satisfied: regex!=2019.12.17 in /usr/local/lib/python3.10/dist-packages (from transformers) (2022.10.31)\n",
            "Requirement already satisfied: requests in /usr/local/lib/python3.10/dist-packages (from transformers) (2.27.1)\n",
            "Collecting tokenizers!=0.11.3,<0.14,>=0.11.1 (from transformers)\n",
            "  Downloading tokenizers-0.13.3-cp310-cp310-manylinux_2_17_x86_64.manylinux2014_x86_64.whl (7.8 MB)\n",
            "\u001b[2K     \u001b[90m━━━━━━━━━━━━━━━━━━━━━━━━━━━━━━━━━━━━━━━━\u001b[0m \u001b[32m7.8/7.8 MB\u001b[0m \u001b[31m77.2 MB/s\u001b[0m eta \u001b[36m0:00:00\u001b[0m\n",
            "\u001b[?25hRequirement already satisfied: tqdm>=4.27 in /usr/local/lib/python3.10/dist-packages (from transformers) (4.65.0)\n",
            "Requirement already satisfied: fsspec in /usr/local/lib/python3.10/dist-packages (from huggingface-hub<1.0,>=0.14.1->transformers) (2023.4.0)\n",
            "Requirement already satisfied: typing-extensions>=3.7.4.3 in /usr/local/lib/python3.10/dist-packages (from huggingface-hub<1.0,>=0.14.1->transformers) (4.5.0)\n",
            "Requirement already satisfied: urllib3<1.27,>=1.21.1 in /usr/local/lib/python3.10/dist-packages (from requests->transformers) (1.26.15)\n",
            "Requirement already satisfied: certifi>=2017.4.17 in /usr/local/lib/python3.10/dist-packages (from requests->transformers) (2022.12.7)\n",
            "Requirement already satisfied: charset-normalizer~=2.0.0 in /usr/local/lib/python3.10/dist-packages (from requests->transformers) (2.0.12)\n",
            "Requirement already satisfied: idna<4,>=2.5 in /usr/local/lib/python3.10/dist-packages (from requests->transformers) (3.4)\n",
            "Installing collected packages: tokenizers, huggingface-hub, transformers\n",
            "Successfully installed huggingface-hub-0.14.1 tokenizers-0.13.3 transformers-4.29.2\n"
          ]
        }
      ]
    },
    {
      "cell_type": "code",
      "execution_count": 7,
      "metadata": {
        "colab": {
          "base_uri": "https://localhost:8080/"
        },
        "id": "D3GzI5VtQTJO",
        "outputId": "fc97a48a-901b-467a-9771-8686061a503a"
      },
      "outputs": [
        {
          "output_type": "stream",
          "name": "stderr",
          "text": [
            "The attention mask and the pad token id were not set. As a consequence, you may observe unexpected behavior. Please pass your input's `attention_mask` to obtain reliable results.\n",
            "Setting `pad_token_id` to `eos_token_id`:2 for open-end generation.\n"
          ]
        },
        {
          "output_type": "stream",
          "name": "stdout",
          "text": [
            "import numpy as np\n",
            "import pytest\n",
            "\n",
            "import pandas as pd\n",
            "from pandas import DataFrame, Series, date_range\n",
            "import pandas._testing as tm\n",
            "\n",
            "\n",
            "class TestDataFrameToDatetime:\n",
            "    def test_to_json_multiindex(self):\n",
            "        # GH#17043\n",
            "        df = DataFrame(\n",
            "            {\n",
            "                \"a\": [1, 2, 3, 4\n"
          ]
        }
      ],
      "source": [
        "from transformers import AutoTokenizer, AutoModelWithLMHead\n",
        "\n",
        "\n",
        "tokenizer = AutoTokenizer.from_pretrained(\"Sentdex/GPyT\")\n",
        "model = AutoModelWithLMHead.from_pretrained(\"Sentdex/GPyT\").to(\"cuda\")\n",
        "\n",
        "\n",
        "def generate(code, max_length=100):\n",
        "    '''Takes input code, replaces newline chars with <N>, \n",
        "    tokenizes, feeds thru model, decodes, \n",
        "    then reformats the newlines back in'''\n",
        "    newlinechar = \"<N>\"\n",
        "    converted = code.replace(\"\\n\", newlinechar)\n",
        "    tokenized = tokenizer.encode(converted, return_tensors='pt').to(\"cuda\")\n",
        "    resp = model.generate(tokenized, max_length=max_length).to(\"cuda\")\n",
        "\n",
        "    decoded = tokenizer.decode(resp[0])\n",
        "    reformatted = decoded.replace(\"<N>\",\"\\n\")\n",
        "    return reformatted\n",
        "\n",
        "\n",
        "print(generate(\"import\"))"
      ]
    },
    {
      "cell_type": "code",
      "source": [
        "print(generate(\"import\", 600))"
      ],
      "metadata": {
        "colab": {
          "base_uri": "https://localhost:8080/"
        },
        "id": "CDJuW7U-SBfm",
        "outputId": "760ccb6d-1849-436b-855d-865a848f99f1"
      },
      "execution_count": 8,
      "outputs": [
        {
          "output_type": "stream",
          "name": "stderr",
          "text": [
            "The attention mask and the pad token id were not set. As a consequence, you may observe unexpected behavior. Please pass your input's `attention_mask` to obtain reliable results.\n",
            "Setting `pad_token_id` to `eos_token_id`:2 for open-end generation.\n"
          ]
        },
        {
          "output_type": "stream",
          "name": "stdout",
          "text": [
            "import numpy as np\n",
            "import pytest\n",
            "\n",
            "import pandas as pd\n",
            "from pandas import DataFrame, Series, date_range\n",
            "import pandas._testing as tm\n",
            "\n",
            "\n",
            "class TestDataFrameToDatetime:\n",
            "    def test_to_json_multiindex(self):\n",
            "        # GH#17043\n",
            "        df = DataFrame(\n",
            "            {\n",
            "                \"a\": [1, 2, 3, 4],\n",
            "                \"b\": [1.0, 2.0, 3.0, 4.0],\n",
            "                \"c\": [1.0, 2.0, 3.0, 4.0],\n",
            "                \"d\": [1.0, 2.0, 3.0, 4.0],\n",
            "                \"e\": [1.0, 2.0, 3.0, 4.0],\n",
            "                \"f\": [1.0, 2.0, 3.0, 4.0],\n",
            "                \"g\": [1.0, 2.0, 3.0, 4.0],\n",
            "                \"h\": [1.0, 2.0, 3.0, 4.0],\n",
            "                \"i\": [1.0, 2.0, 3.0, 4.0],\n",
            "                \"j\": [1.0, 2.0, 3.0, 4.0],\n",
            "                \"k\": [1.0, 2.0, 3.0, 4.0],\n",
            "            }\n",
            "        )\n",
            "<pad> result = df.to_json(orient=\"records\", lines=True)\n",
            "        expected = DataFrame(\n",
            "            {\n",
            "                \"a\": [1.0, 2.0, 3.0, 4.0],\n",
            "            }\n",
            "        )\n",
            "        assert result == expected\n",
            "<pad><pad>\n",
            "<pad><pad> = json.loads(result)\n",
            "<pad> = json.loads(result)\n",
            "<pad> = json.loads(result)\n",
            "<pad> = json.loads(result)\n",
            "<pad> = json.loads(result)\n",
            "<pad><pad> = json.loads(result)\n",
            "<pad><pad><pad> = json.loads(result)\n",
            "<pad><pad><pad><pad><pad><pad><pad><pad><pad><pad><pad><pad><pad><pad><pad><pad><pad><pad><pad><pad><pad><pad><pad><pad><pad><pad><pad><pad><pad><pad><pad><pad><pad><pad><pad><pad><pad><pad><pad><pad><pad><pad><pad><pad><pad><pad><pad><pad><pad><pad><pad><pad><pad><pad><pad><pad><pad><pad><pad><pad><pad><pad><pad><pad><pad><pad><pad><pad><pad><pad><pad><pad><pad><pad><pad><pad><pad><pad><pad><pad><pad><pad><pad><pad><pad><pad><pad><pad><pad><pad><pad><pad><pad><pad><pad><pad><pad><pad><pad><pad><pad><pad><pad><pad><pad><pad><pad><pad><pad><pad><pad>\n"
          ]
        }
      ]
    },
    {
      "cell_type": "code",
      "source": [
        "print(generate(\"import scipy\", 600))"
      ],
      "metadata": {
        "colab": {
          "base_uri": "https://localhost:8080/"
        },
        "id": "A-vJ7gbPSAFY",
        "outputId": "58c3cdd8-f192-4b4b-d558-d8a4a35fd21c"
      },
      "execution_count": 9,
      "outputs": [
        {
          "output_type": "stream",
          "name": "stderr",
          "text": [
            "The attention mask and the pad token id were not set. As a consequence, you may observe unexpected behavior. Please pass your input's `attention_mask` to obtain reliable results.\n",
            "Setting `pad_token_id` to `eos_token_id`:2 for open-end generation.\n"
          ]
        },
        {
          "output_type": "stream",
          "name": "stdout",
          "text": [
            "import scipy.stats\n",
            "import numpy as np\n",
            "import pytest\n",
            "\n",
            "from sklearn.utils._testing import assert_array_almost_equal\n",
            "from sklearn.utils._testing import assert_array_almost_equal\n",
            "from sklearn.utils._testing import assert_array_almost_equal\n",
            "from sklearn.utils._testing import assert_warns_message\n",
            "from sklearn.utils._testing import assert_warns_message\n",
            "from sklearn.utils._testing import assert_warns_message\n",
            "from sklearn.utils._testing import assert_warns_message\n",
            "from sklearn.utils._testing import assert_warns_message\n",
            "from sklearn.utils._testing import assert_warns_message\n",
            "from sklearn.utils._testing import assert_warns_message\n",
            "from sklearn.utils._testing import assert_warns_message\n",
            "from sklearn.utils._testing import assert_warns_message\n",
            "<pad> sklearn.utils._testing import assert_warns_message\n",
            "<pad> sklearn.utils._testing import assert_warns_message\n",
            "<pad> sklearn.utils._testing import assert_warns_message\n",
            "<pad> sklearn.utils._testing import assert_warns_message\n",
            "<pad> sklearn.utils._testing import assert_warns_message\n",
            "<pad> sklearn.utils._testing import assert_warns_message\n",
            "<pad><pad>'y')\n",
            "<pad><pad>'y')\n",
            "<pad><pad>'y')\n",
            "<pad><pad>'y')\n",
            "<pad><pad><pad>'y')\n",
            "<pad><pad><pad>'y')\n",
            "<pad><pad><pad>'y')\n",
            "<pad><pad><pad><pad>'y')\n",
            "<pad><pad><pad><pad>'y')\n",
            "<pad><pad><pad><pad>'y')\n",
            "<pad><pad><pad>'y')\n",
            "<pad><pad><pad><pad>'y'y'y'y'y'y'y'y'y'y'y'y'y'y'y'y'y'y'y'y'y'y'y'y'y'y'y'y'y'y'y'y'y'y'y'y'y'y'y'y'y'y'y'y'y'y'y'y'y'y'y'y'y'y'y'y'y'y'y'y'y'y'y'y'y'y'y'y'y'y'y'y'y'y'y'y'y'y'y'y'y'y'y'y'y'y'y'y'y'y'y'y'y'y'y'y'y'y'y'y'y'y'y'y'y'y\n"
          ]
        }
      ]
    },
    {
      "cell_type": "code",
      "source": [
        "inp = \"\"\"import matplotlib.pyplot as plt\n",
        "\n",
        "x = [1, 2, 3]\n",
        "y = [5, 6, 2]\"\"\"\n",
        "\n",
        "print(generate(inp))"
      ],
      "metadata": {
        "colab": {
          "base_uri": "https://localhost:8080/"
        },
        "id": "67EL7B66SznO",
        "outputId": "c28fdcde-df20-4f10-fc40-3833c09820a8"
      },
      "execution_count": 10,
      "outputs": [
        {
          "output_type": "stream",
          "name": "stderr",
          "text": [
            "The attention mask and the pad token id were not set. As a consequence, you may observe unexpected behavior. Please pass your input's `attention_mask` to obtain reliable results.\n",
            "Setting `pad_token_id` to `eos_token_id`:2 for open-end generation.\n"
          ]
        },
        {
          "output_type": "stream",
          "name": "stdout",
          "text": [
            "import matplotlib.pyplot as plt\n",
            "\n",
            "x = [1, 2, 3]\n",
            "y = [5, 6, 2]  # [1, 2, 3]\n",
            "\n",
            "plt.figure()\n",
            "plt.plot(x, y)\n",
            "plt.plot(x, y)\n",
            "plt.plot(x, y)\n",
            "plt.plot(x, y)\n",
            "plt.plot(x, y)\n",
            "\n"
          ]
        }
      ]
    },
    {
      "cell_type": "code",
      "source": [
        "import matplotlib.pyplot as plt\n",
        "\n",
        "x = [1, 2, 3]\n",
        "y = [5, 6, 2]  # [1, 2, 3]\n",
        "\n",
        "plt.figure()\n",
        "plt.plot(x, y)"
      ],
      "metadata": {
        "colab": {
          "base_uri": "https://localhost:8080/",
          "height": 447
        },
        "id": "HSAnLLP-S21K",
        "outputId": "6d47a0ed-513f-4ef0-dd01-81144e6ebe0e"
      },
      "execution_count": 11,
      "outputs": [
        {
          "output_type": "execute_result",
          "data": {
            "text/plain": [
              "[<matplotlib.lines.Line2D at 0x7f229e7db4c0>]"
            ]
          },
          "metadata": {},
          "execution_count": 11
        },
        {
          "output_type": "display_data",
          "data": {
            "text/plain": [
              "<Figure size 640x480 with 1 Axes>"
            ],
            "image/png": "[encoded data removed]"
          },
          "metadata": {}
        }
      ]
    },
    {
      "cell_type": "code",
      "source": [
        "inp = \"\"\"import matplotlib.pyplot as plt\n",
        "\n",
        "x = [1, 2, 3]\n",
        "y = [5, 6, 2]\n",
        "\n",
        "# scatterplot\n",
        "\"\"\"\n",
        "\n",
        "print(generate(inp))"
      ],
      "metadata": {
        "colab": {
          "base_uri": "https://localhost:8080/"
        },
        "id": "TibVU7LaTZAC",
        "outputId": "e28a1f56-e696-4b86-8dfb-14e39577f455"
      },
      "execution_count": 12,
      "outputs": [
        {
          "output_type": "stream",
          "name": "stderr",
          "text": [
            "The attention mask and the pad token id were not set. As a consequence, you may observe unexpected behavior. Please pass your input's `attention_mask` to obtain reliable results.\n",
            "Setting `pad_token_id` to `eos_token_id`:2 for open-end generation.\n"
          ]
        },
        {
          "output_type": "stream",
          "name": "stdout",
          "text": [
            "import matplotlib.pyplot as plt\n",
            "\n",
            "x = [1, 2, 3]\n",
            "y = [5, 6, 2]\n",
            "\n",
            "# scatterplot\n",
            "plt.scatter(x, y, c='r', label='x')\n",
            "plt.scatter(x, y, c='r', label='y')\n",
            "plt.scatter(x, y, c='r', label='x')\n",
            "plt.scatter(x,\n"
          ]
        }
      ]
    },
    {
      "cell_type": "code",
      "source": [
        "import matplotlib.pyplot as plt\n",
        "\n",
        "x = [1, 2, 3]\n",
        "y = [5, 6, 2]\n",
        "\n",
        "# scatterplot\n",
        "plt.scatter(x, y, c='r', label='x')"
      ],
      "metadata": {
        "colab": {
          "base_uri": "https://localhost:8080/",
          "height": 447
        },
        "id": "KxUqJad7TZQq",
        "outputId": "1899df60-bf5d-4eb8-c9c9-08a7935e48ab"
      },
      "execution_count": 13,
      "outputs": [
        {
          "output_type": "execute_result",
          "data": {
            "text/plain": [
              "<matplotlib.collections.PathCollection at 0x7f23eb71f010>"
            ]
          },
          "metadata": {},
          "execution_count": 13
        },
        {
          "output_type": "display_data",
          "data": {
            "text/plain": [
              "<Figure size 640x480 with 1 Axes>"
            ],
            "image/png": "[encoded data removed]"
          },
          "metadata": {}
        }
      ]
    },
    {
      "cell_type": "code",
      "source": [
        "inp = \"\"\"# graphing:\n",
        "import matplotlib\n",
        "\n",
        "# web requests:\n",
        "import requests\n",
        "\n",
        "# neural networks\n",
        "\"\"\"\n",
        "\n",
        "print(generate(inp))"
      ],
      "metadata": {
        "colab": {
          "base_uri": "https://localhost:8080/"
        },
        "id": "uFk-8m3qTsaf",
        "outputId": "ca58a923-d621-4ff1-b8bc-1e980b6fe245"
      },
      "execution_count": 15,
      "outputs": [
        {
          "output_type": "stream",
          "name": "stderr",
          "text": [
            "The attention mask and the pad token id were not set. As a consequence, you may observe unexpected behavior. Please pass your input's `attention_mask` to obtain reliable results.\n",
            "Setting `pad_token_id` to `eos_token_id`:2 for open-end generation.\n"
          ]
        },
        {
          "output_type": "stream",
          "name": "stdout",
          "text": [
            "# graphing:\n",
            "import matplotlib\n",
            "\n",
            "# web requests:\n",
            "import requests\n",
            "\n",
            "# neural networks\n",
            "from keras.layers import Dense, Dropout, Flatten, Flatten\n",
            "from keras.layers import Conv2D, Flatten, Flatten\n",
            "from keras.layers import Flatten, Flatten\n",
            "from keras.layers import Flatten\n",
            "from keras.layers import Flatten\n",
            "from keras.layers import Flatten\n",
            "from keras\n"
          ]
        }
      ]
    },
    {
      "cell_type": "code",
      "source": [
        "def stop_at_repeat(model_out):\n",
        "    lines = model_out.splitlines(True)\n",
        "    no_repeat = \"\"\n",
        "    for l in lines:\n",
        "        if no_repeat.count(l) == 0 or l == \"\\n\":\n",
        "            no_repeat += l\n",
        "        else:\n",
        "            return no_repeat\n",
        "    return no_repeat"
      ],
      "metadata": {
        "id": "fhG9PTkAUZU_"
      },
      "execution_count": 16,
      "outputs": []
    },
    {
      "cell_type": "code",
      "source": [
        "inp = \"\"\"import tensorflow as tf\n",
        "from tensorflow.keras.datasets import cifar10\n",
        "from tensorflow.keras.preprocessing.image import ImageDataGenerator\n",
        "from tensorflow.keras.models import Sequential\n",
        "from tensorflow.keras.layers import Dense, Dropout, Activation, Flatten\n",
        "from tensorflow.keras.layers import Conv2D, MaxPooling2D\n",
        "\n",
        "import pickle\n",
        "\n",
        "pickle_in = open(\"X.pickle\",\"rb\")\n",
        "X = pickle.load(pickle_in)\n",
        "\n",
        "pickle_in = open(\"y.pickle\",\"rb\")\n",
        "y = pickle.load(pickle_in)\n",
        "\n",
        "X = X/255.0\n",
        "\n",
        "model = Sequential()\n",
        "\n",
        "# Conv:\n",
        "\"\"\"\n",
        "\n",
        "m = generate(inp, max_length=500)\n",
        "print(stop_at_repeat(m))"
      ],
      "metadata": {
        "colab": {
          "base_uri": "https://localhost:8080/"
        },
        "id": "JJwvLNEEUfV8",
        "outputId": "0d2152fd-937e-43e4-93f2-be44e47858fa"
      },
      "execution_count": 17,
      "outputs": [
        {
          "output_type": "stream",
          "name": "stderr",
          "text": [
            "The attention mask and the pad token id were not set. As a consequence, you may observe unexpected behavior. Please pass your input's `attention_mask` to obtain reliable results.\n",
            "Setting `pad_token_id` to `eos_token_id`:2 for open-end generation.\n"
          ]
        },
        {
          "output_type": "stream",
          "name": "stdout",
          "text": [
            "import tensorflow as tf\n",
            "from tensorflow.keras.datasets import cifar10\n",
            "from tensorflow.keras.preprocessing.image import ImageDataGenerator\n",
            "from tensorflow.keras.models import Sequential\n",
            "from tensorflow.keras.layers import Dense, Dropout, Activation, Flatten\n",
            "from tensorflow.keras.layers import Conv2D, MaxPooling2D\n",
            "\n",
            "import pickle\n",
            "\n",
            "pickle_in = open(\"X.pickle\",\"rb\")\n",
            "X = pickle.load(pickle_in)\n",
            "\n",
            "pickle_in = open(\"y.pickle\",\"rb\")\n",
            "y = pickle.load(pickle_in)\n",
            "\n",
            "X = X/255.0\n",
            "\n",
            "model = Sequential()\n",
            "\n",
            "# Conv:\n",
            "model.add(Conv2D(64, (3, 3), strides=(1, 1), padding=\"same\"))\n",
            "model.add(MaxPooling2D((2, 2), strides=(1, 1), padding=\"same\"))\n",
            "\n"
          ]
        }
      ]
    }
  ]
}